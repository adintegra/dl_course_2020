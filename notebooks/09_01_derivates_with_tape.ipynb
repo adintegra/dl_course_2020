{
 "cells": [
  {
   "cell_type": "code",
   "execution_count": 1,
   "metadata": {},
   "outputs": [],
   "source": [
    "import tensorflow as tf"
   ]
  },
  {
   "cell_type": "markdown",
   "metadata": {},
   "source": [
    "Demonstration of tape mechanism for calculating derivatives."
   ]
  },
  {
   "cell_type": "code",
   "execution_count": 2,
   "metadata": {},
   "outputs": [
    {
     "name": "stdout",
     "output_type": "stream",
     "text": [
      "[<tf.Tensor: id=29, shape=(), dtype=float32, numpy=3.0>]\n"
     ]
    }
   ],
   "source": [
    "x = tf.Variable(-2.)\n",
    "y = tf.Variable(5.)\n",
    "z = tf.Variable(-4.)\n",
    "\n",
    "with tf.GradientTape() as tape: #We need to store relevant info to calculate gradients\n",
    "    res = (x+y)*z\n",
    "    print(tape.gradient(res, [z]))"
   ]
  },
  {
   "cell_type": "code",
   "execution_count": 3,
   "metadata": {},
   "outputs": [
    {
     "name": "stdout",
     "output_type": "stream",
     "text": [
      "[<tf.Tensor: id=73, shape=(), dtype=float32, numpy=3.0>]\n"
     ]
    }
   ],
   "source": [
    "@tf.function #Compiles a graph much faster\n",
    "def function(x,y,z):\n",
    "    return (x+y)*z\n",
    "\n",
    "with tf.GradientTape() as tape:\n",
    "    x = tf.Variable(-2.)\n",
    "    y = tf.Variable(5.)\n",
    "    z = tf.Variable(-4.)\n",
    "    res = function(-2.,5.,z)\n",
    "    print(tape.gradient(res, [z]))"
   ]
  },
  {
   "cell_type": "code",
   "execution_count": null,
   "metadata": {},
   "outputs": [],
   "source": []
  }
 ],
 "metadata": {
  "kernelspec": {
   "display_name": "Python 3",
   "language": "python",
   "name": "python3"
  },
  "language_info": {
   "codemirror_mode": {
    "name": "ipython",
    "version": 3
   },
   "file_extension": ".py",
   "mimetype": "text/x-python",
   "name": "python",
   "nbconvert_exporter": "python",
   "pygments_lexer": "ipython3",
   "version": "3.6.8"
  }
 },
 "nbformat": 4,
 "nbformat_minor": 2
}
