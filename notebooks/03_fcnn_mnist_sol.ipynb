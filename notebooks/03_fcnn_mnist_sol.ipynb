{
 "cells": [
  {
   "cell_type": "markdown",
   "metadata": {
    "colab_type": "text",
    "id": "tbTYFRhJoaBu"
   },
   "source": [
    "# MNIST digit classification with and without hidden layers\n",
    "\n",
    "\n",
    "In this notebook you will use the Mnist dataset for a classification task. You will compare a the performace of a fully connected neural network with and without hidden layers.\n",
    "\n",
    "**Usage:** The idea of the notebook is that you try to understand the provided code by running it, checking the output and playing with it by slightly changing the code and rerunning it. \n",
    "\n",
    "**Dataset:** You work with the MNIST dataset. We have 60'000 28x28 pixel greyscale images of digits and want to classify them into the right label (0-9).\n",
    "\n",
    "**Content:**\n",
    "* load the original MNIST data \n",
    "* visualize samples of the data\n",
    "* flatten the data\n",
    "* use keras to train a fcNN with  and without hidden layers and compare the perfomance on new unseen test data\n",
    "\n",
    "\n",
    "\n",
    "\n"
   ]
  },
  {
   "cell_type": "markdown",
   "metadata": {
    "colab_type": "text",
    "id": "PEIS4WvpsT5t"
   },
   "source": [
    "#### Imports\n",
    "\n",
    "In the next two cells, we load all the required libraries and functions. We download the Mnist data, normalize the pixelvalues to be between 0 and 1, and seperate it into a training and validation set."
   ]
  },
  {
   "cell_type": "code",
   "execution_count": 1,
   "metadata": {
    "colab": {},
    "colab_type": "code",
    "id": "Y6S_hQX5oaBw",
    "scrolled": true
   },
   "outputs": [],
   "source": [
    "# load required libraries:\n",
    "import numpy as np\n",
    "import matplotlib.pyplot as plt\n",
    "%matplotlib inline\n",
    "plt.style.use('default')\n",
    "from sklearn.metrics import confusion_matrix\n",
    "\n",
    "from tensorflow.keras.models import Sequential\n",
    "from tensorflow.keras.layers import Dense, Convolution2D, MaxPooling2D, Flatten , Activation\n",
    "from tensorflow.keras.utils import to_categorical \n",
    "from tensorflow.keras import optimizers\n"
   ]
  },
  {
   "cell_type": "markdown",
   "metadata": {
    "colab_type": "text",
    "id": "4h_3TS0CtJJb"
   },
   "source": [
    "\n",
    "\n",
    "\n",
    "\n",
    "#### Loading and preparing the MNIST data"
   ]
  },
  {
   "cell_type": "code",
   "execution_count": 2,
   "metadata": {
    "colab": {
     "base_uri": "https://localhost:8080/",
     "height": 70
    },
    "colab_type": "code",
    "id": "4sZ8lqFfoaB2",
    "outputId": "a9aa1a96-4707-440b-a43f-9de241343a5d"
   },
   "outputs": [
    {
     "name": "stdout",
     "output_type": "stream",
     "text": [
      "(50000, 28, 28, 1)\n",
      "(10000, 28, 28, 1)\n",
      "(10000, 28, 28, 1)\n"
     ]
    }
   ],
   "source": [
    "from tensorflow.keras.datasets import mnist\n",
    "(x_train, y_train), (x_test, y_test) = mnist.load_data()\n",
    "\n",
    "# separate x_train in X_train and X_val, same for y_train\n",
    "X_train=x_train[0:50000] / 255 #divide by 255 so that they are in range 0 to 1\n",
    "Y_train=to_categorical(y_train[0:50000],10) # one-hot encoding\n",
    "\n",
    "X_val=x_train[50000:60000] / 255\n",
    "Y_val=to_categorical(y_train[50000:60000],10)\n",
    "\n",
    "X_test=x_test / 255\n",
    "Y_test=to_categorical(y_test,10)\n",
    "\n",
    "del x_train, y_train, x_test, y_test\n",
    "\n",
    "X_train=np.reshape(X_train, (X_train.shape[0],28,28,1))\n",
    "X_val=np.reshape(X_val, (X_val.shape[0],28,28,1))\n",
    "X_test=np.reshape(X_test, (X_test.shape[0],28,28,1))\n",
    "\n",
    "print(X_train.shape)\n",
    "print(X_val.shape)\n",
    "print(X_test.shape)"
   ]
  },
  {
   "cell_type": "markdown",
   "metadata": {
    "colab_type": "text",
    "id": "3ly7CrHtLUP9"
   },
   "source": [
    "Let's visualize the first 4 mnist images before shuffling the pixels randomly around. It is very easy to recognise the true label of the digits."
   ]
  },
  {
   "cell_type": "code",
   "execution_count": 3,
   "metadata": {
    "colab": {
     "base_uri": "https://localhost:8080/",
     "height": 285
    },
    "colab_type": "code",
    "id": "c4gUgwGUeftF",
    "outputId": "4b0d711f-0756-4580-f59f-70f6275ae7ff"
   },
   "outputs": [
    {
     "data": {
      "image/png": "[encoded data removed]",
      "text/plain": [
       "<Figure size 1200x1200 with 4 Axes>"
      ]
     },
     "metadata": {},
     "output_type": "display_data"
    }
   ],
   "source": [
    "# visualize the 4 first mnist images before shuffling the pixels\n",
    "plt.figure(figsize=(12,12))\n",
    "for i in range(0,4):\n",
    "    plt.subplot(1,4,(i+1))\n",
    "    plt.imshow((X_train[i,:,:,0]),cmap=\"gray\")\n",
    "    plt.title('true label: '+np.str(np.argmax(Y_train,axis=1)[i]))\n",
    "    #plt.axis('off')"
   ]
  },
  {
   "cell_type": "markdown",
   "metadata": {
    "colab_type": "text",
    "id": "trSndjWX4HO7"
   },
   "source": [
    "## fcNN as classification model for MNIST data\n",
    "Now we want to train a fcNN to classify the MNIST data. We use the same netwok architecture and train first with the original data and then with the shuffled data. \n",
    "* Use a fcNN with 2 hidden layers as classification model.\n",
    "* train it once on the original train data and check the performance on the original test data\n",
    "* train it once on the shuffeled train data and check the performance on the accordingly shuffled test data"
   ]
  },
  {
   "cell_type": "markdown",
   "metadata": {
    "colab_type": "text",
    "id": "LB_m8HJaOMsY"
   },
   "source": [
    "Because we will use fcNN we need to flatten our inuput into a 1d vector. We do this in the next cell with reshape."
   ]
  },
  {
   "cell_type": "code",
   "execution_count": 4,
   "metadata": {
    "colab": {},
    "colab_type": "code",
    "id": "CoSUhNzRfbj4"
   },
   "outputs": [],
   "source": [
    "# prepare data for fcNN - we need a vector as input\n",
    "\n",
    "# first do it for original data\n",
    "X_train_flat = X_train.reshape([X_train.shape[0], 784])\n",
    "X_val_flat = X_val.reshape([X_val.shape[0], 784])\n",
    "X_test_flat = X_test.reshape([X_test.shape[0], 784])\n",
    "\n"
   ]
  },
  {
   "cell_type": "markdown",
   "metadata": {
    "colab_type": "text",
    "id": "uOYYJFOh62qC"
   },
   "source": [
    "### Train the fcNN on the data"
   ]
  },
  {
   "cell_type": "code",
   "execution_count": 5,
   "metadata": {
    "colab": {
     "base_uri": "https://localhost:8080/",
     "height": 35
    },
    "colab_type": "code",
    "id": "xILWGAnpC0Bt",
    "outputId": "0e34be12-36ad-4a46-afae-d5be75a01bbe"
   },
   "outputs": [
    {
     "data": {
      "text/plain": [
       "((50000, 784), (50000, 10), (10000, 784), (10000, 10))"
      ]
     },
     "execution_count": 5,
     "metadata": {},
     "output_type": "execute_result"
    }
   ],
   "source": [
    "# check the shape\n",
    "X_train_flat.shape,Y_train.shape,X_val_flat.shape,Y_val.shape"
   ]
  },
  {
   "cell_type": "markdown",
   "metadata": {
    "colab_type": "text",
    "id": "bulk0OpFOpeO"
   },
   "source": [
    "Here we define the nework, we use two hidden layers with 100 and 50 nodes. In the output we predict the probability for the 10 digits with the softmax actication function, in the hidden layers we use the sigmoid activation function. "
   ]
  },
  {
   "cell_type": "code",
   "execution_count": 6,
   "metadata": {
    "colab": {},
    "colab_type": "code",
    "id": "EAispBe0oaCH"
   },
   "outputs": [],
   "source": [
    "# define fcNN with 2 hidden layers\n",
    "model = Sequential()\n",
    "\n",
    "model.add(Dense(10, batch_input_shape=(None, 784),activation=\"softmax\"))\n",
    "\n",
    "# compile model and intitialize weights\n",
    "model.compile(loss='categorical_crossentropy',\n",
    "              optimizer='adam',\n",
    "              metrics=['accuracy'])"
   ]
  },
  {
   "cell_type": "code",
   "execution_count": 7,
   "metadata": {
    "colab": {
     "base_uri": "https://localhost:8080/",
     "height": 372
    },
    "colab_type": "code",
    "id": "7xfW6yzqoaCK",
    "outputId": "32ab1b57-ea77-4312-cea5-eea73391b7a1"
   },
   "outputs": [
    {
     "name": "stdout",
     "output_type": "stream",
     "text": [
      "Model: \"sequential\"\n",
      "_________________________________________________________________\n",
      "Layer (type)                 Output Shape              Param #   \n",
      "=================================================================\n",
      "dense (Dense)                (None, 10)                7850      \n",
      "=================================================================\n",
      "Total params: 7,850\n",
      "Trainable params: 7,850\n",
      "Non-trainable params: 0\n",
      "_________________________________________________________________\n"
     ]
    }
   ],
   "source": [
    "# summarize model along with number of model weights\n",
    "model.summary()"
   ]
  },
  {
   "cell_type": "code",
   "execution_count": 8,
   "metadata": {
    "colab": {
     "base_uri": "https://localhost:8080/",
     "height": 390
    },
    "colab_type": "code",
    "id": "mhvTpCtfoaCQ",
    "outputId": "2810f9b9-039e-48c9-bdeb-6b1f28fba184"
   },
   "outputs": [
    {
     "name": "stdout",
     "output_type": "stream",
     "text": [
      "Train on 50000 samples, validate on 10000 samples\n",
      "Epoch 1/10\n",
      "50000/50000 - 2s - loss: 0.7393 - accuracy: 0.8189 - val_loss: 0.3929 - val_accuracy: 0.9023\n",
      "Epoch 2/10\n",
      "50000/50000 - 1s - loss: 0.3866 - accuracy: 0.8967 - val_loss: 0.3220 - val_accuracy: 0.9142\n",
      "Epoch 3/10\n",
      "50000/50000 - 1s - loss: 0.3365 - accuracy: 0.9070 - val_loss: 0.2985 - val_accuracy: 0.9180\n",
      "Epoch 4/10\n",
      "50000/50000 - 1s - loss: 0.3128 - accuracy: 0.9138 - val_loss: 0.2851 - val_accuracy: 0.9230\n",
      "Epoch 5/10\n",
      "50000/50000 - 1s - loss: 0.2993 - accuracy: 0.9169 - val_loss: 0.2762 - val_accuracy: 0.9238\n",
      "Epoch 6/10\n",
      "50000/50000 - 1s - loss: 0.2898 - accuracy: 0.9183 - val_loss: 0.2714 - val_accuracy: 0.9264\n",
      "Epoch 7/10\n",
      "50000/50000 - 1s - loss: 0.2829 - accuracy: 0.9215 - val_loss: 0.2654 - val_accuracy: 0.9271\n",
      "Epoch 8/10\n",
      "50000/50000 - 1s - loss: 0.2777 - accuracy: 0.9221 - val_loss: 0.2623 - val_accuracy: 0.9277\n",
      "Epoch 9/10\n",
      "50000/50000 - 1s - loss: 0.2732 - accuracy: 0.9233 - val_loss: 0.2615 - val_accuracy: 0.9296\n",
      "Epoch 10/10\n",
      "50000/50000 - 1s - loss: 0.2693 - accuracy: 0.9250 - val_loss: 0.2577 - val_accuracy: 0.9297\n"
     ]
    }
   ],
   "source": [
    "# train the model\n",
    "history=model.fit(X_train_flat, Y_train, \n",
    "                  batch_size=128, \n",
    "                  epochs=10,\n",
    "                  verbose=2, \n",
    "                  validation_data=(X_val_flat, Y_val)\n",
    "                 )"
   ]
  },
  {
   "cell_type": "code",
   "execution_count": 9,
   "metadata": {
    "colab": {
     "base_uri": "https://localhost:8080/",
     "height": 428
    },
    "colab_type": "code",
    "id": "t39HSiHcoaCT",
    "outputId": "005c699f-aa7f-4ccf-8317-2ad6c982b4ce"
   },
   "outputs": [
    {
     "data": {
      "image/png": "[encoded data removed]",
      "text/plain": [
       "<Figure size 1200x400 with 2 Axes>"
      ]
     },
     "metadata": {},
     "output_type": "display_data"
    }
   ],
   "source": [
    "# plot the development of the accuracy and loss during training\n",
    "plt.figure(figsize=(12,4))\n",
    "plt.subplot(1,2,(1))\n",
    "plt.plot(history.history['accuracy'],linestyle='-.')\n",
    "plt.plot(history.history['val_accuracy'])\n",
    "plt.title('model accuracy')\n",
    "plt.ylabel('accuracy')\n",
    "plt.xlabel('epoch')\n",
    "plt.legend(['train', 'valid'], loc='lower right')\n",
    "plt.subplot(1,2,(2))\n",
    "plt.plot(history.history['loss'],linestyle='-.')\n",
    "plt.plot(history.history['val_loss'])\n",
    "plt.title('model loss')\n",
    "plt.ylabel('loss')\n",
    "plt.xlabel('epoch')\n",
    "plt.legend(['train', 'valid'], loc='upper right')\n",
    "plt.show()"
   ]
  },
  {
   "cell_type": "markdown",
   "metadata": {
    "colab_type": "text",
    "id": "iCaoy8l4oaCW"
   },
   "source": [
    "#### Prediction on the original test set after training on original data\n",
    "\n",
    "Now, let's use the fcNN that was trained on the original data to predict new unseen data (our testdata).\n",
    "We determine the confusion matrix and the accuracy on the testdata to evaluate the classification performance.\n"
   ]
  },
  {
   "cell_type": "code",
   "execution_count": 10,
   "metadata": {
    "colab": {
     "base_uri": "https://localhost:8080/",
     "height": 212
    },
    "colab_type": "code",
    "id": "z1U4S7o5oaCY",
    "outputId": "de83a545-08bf-40c7-bcd8-9d99eb855d9d"
   },
   "outputs": [
    {
     "name": "stdout",
     "output_type": "stream",
     "text": [
      "[[ 957    0    1    1    0    5   10    3    3    0]\n",
      " [   0 1114    3    2    0    1    4    2    9    0]\n",
      " [   6   10  922   15   10    4   11   10   39    5]\n",
      " [   2    0   19  920    0   27    2   11   21    8]\n",
      " [   1    1    4    1  917    0   11    3   10   34]\n",
      " [   8    3    4   30    8  775   18    5   33    8]\n",
      " [   7    3    5    1    7   10  921    2    2    0]\n",
      " [   1    6   23    7    7    0    0  949    2   33]\n",
      " [   4    8    7   19    9   24   10   11  874    8]\n",
      " [  10    7    1   11   28    8    0   26    7  911]]\n",
      "Acc_fc_orig_flat =  0.926\n"
     ]
    }
   ],
   "source": [
    "pred=model.predict(X_test_flat)\n",
    "print(confusion_matrix(np.argmax(Y_test,axis=1),np.argmax(pred,axis=1)))\n",
    "acc_fc_orig = np.sum(np.argmax(Y_test,axis=1)==np.argmax(pred,axis=1))/len(pred)\n",
    "print(\"Acc_fc_orig_flat = \" , acc_fc_orig)"
   ]
  },
  {
   "cell_type": "code",
   "execution_count": null,
   "metadata": {},
   "outputs": [],
   "source": []
  },
  {
   "cell_type": "code",
   "execution_count": null,
   "metadata": {},
   "outputs": [],
   "source": []
  },
  {
   "cell_type": "code",
   "execution_count": null,
   "metadata": {},
   "outputs": [],
   "source": []
  },
  {
   "cell_type": "code",
   "execution_count": null,
   "metadata": {},
   "outputs": [],
   "source": []
  },
  {
   "cell_type": "code",
   "execution_count": null,
   "metadata": {},
   "outputs": [],
   "source": []
  },
  {
   "cell_type": "code",
   "execution_count": 11,
   "metadata": {},
   "outputs": [],
   "source": [
    "# define fcNN with 2 hidden layers\n",
    "model = Sequential()\n",
    "\n",
    "model.add(Dense(10, batch_input_shape=(None, 784)))\n",
    "model.add(Activation('sigmoid'))\n",
    "model.add(Dense(50))\n",
    "model.add(Activation('sigmoid'))\n",
    "model.add(Dense(10))\n",
    "model.add(Activation('softmax'))\n",
    "\n",
    "# compile model and intitialize weights\n",
    "model.compile(loss='categorical_crossentropy',\n",
    "              optimizer='adam',\n",
    "              metrics=['accuracy'])"
   ]
  },
  {
   "cell_type": "code",
   "execution_count": 12,
   "metadata": {},
   "outputs": [
    {
     "name": "stdout",
     "output_type": "stream",
     "text": [
      "Model: \"sequential_1\"\n",
      "_________________________________________________________________\n",
      "Layer (type)                 Output Shape              Param #   \n",
      "=================================================================\n",
      "dense_1 (Dense)              (None, 10)                7850      \n",
      "_________________________________________________________________\n",
      "activation (Activation)      (None, 10)                0         \n",
      "_________________________________________________________________\n",
      "dense_2 (Dense)              (None, 50)                550       \n",
      "_________________________________________________________________\n",
      "activation_1 (Activation)    (None, 50)                0         \n",
      "_________________________________________________________________\n",
      "dense_3 (Dense)              (None, 10)                510       \n",
      "_________________________________________________________________\n",
      "activation_2 (Activation)    (None, 10)                0         \n",
      "=================================================================\n",
      "Total params: 8,910\n",
      "Trainable params: 8,910\n",
      "Non-trainable params: 0\n",
      "_________________________________________________________________\n"
     ]
    }
   ],
   "source": [
    "# summarize model along with number of model weights\n",
    "model.summary()"
   ]
  },
  {
   "cell_type": "code",
   "execution_count": 13,
   "metadata": {},
   "outputs": [
    {
     "name": "stdout",
     "output_type": "stream",
     "text": [
      "Train on 50000 samples, validate on 10000 samples\n",
      "Epoch 1/30\n",
      "50000/50000 - 2s - loss: 1.8901 - accuracy: 0.4842 - val_loss: 1.3259 - val_accuracy: 0.7504\n",
      "Epoch 2/30\n",
      "50000/50000 - 1s - loss: 0.9711 - accuracy: 0.8066 - val_loss: 0.6746 - val_accuracy: 0.8646\n",
      "Epoch 3/30\n",
      "50000/50000 - 1s - loss: 0.5752 - accuracy: 0.8660 - val_loss: 0.4642 - val_accuracy: 0.8907\n",
      "Epoch 4/30\n",
      "50000/50000 - 1s - loss: 0.4410 - accuracy: 0.8854 - val_loss: 0.3801 - val_accuracy: 0.9004\n",
      "Epoch 5/30\n",
      "50000/50000 - 1s - loss: 0.3794 - accuracy: 0.8964 - val_loss: 0.3368 - val_accuracy: 0.9105\n",
      "Epoch 6/30\n",
      "50000/50000 - 1s - loss: 0.3420 - accuracy: 0.9050 - val_loss: 0.3090 - val_accuracy: 0.9149\n",
      "Epoch 7/30\n",
      "50000/50000 - 1s - loss: 0.3157 - accuracy: 0.9117 - val_loss: 0.2866 - val_accuracy: 0.9203\n",
      "Epoch 8/30\n",
      "50000/50000 - 1s - loss: 0.2964 - accuracy: 0.9166 - val_loss: 0.2719 - val_accuracy: 0.9248\n",
      "Epoch 9/30\n",
      "50000/50000 - 1s - loss: 0.2810 - accuracy: 0.9197 - val_loss: 0.2623 - val_accuracy: 0.9255\n",
      "Epoch 10/30\n",
      "50000/50000 - 1s - loss: 0.2676 - accuracy: 0.9236 - val_loss: 0.2547 - val_accuracy: 0.9290\n",
      "Epoch 11/30\n",
      "50000/50000 - 1s - loss: 0.2572 - accuracy: 0.9260 - val_loss: 0.2414 - val_accuracy: 0.9345\n",
      "Epoch 12/30\n",
      "50000/50000 - 2s - loss: 0.2482 - accuracy: 0.9292 - val_loss: 0.2353 - val_accuracy: 0.9379\n",
      "Epoch 13/30\n",
      "50000/50000 - 1s - loss: 0.2410 - accuracy: 0.9306 - val_loss: 0.2303 - val_accuracy: 0.9378\n",
      "Epoch 14/30\n",
      "50000/50000 - 1s - loss: 0.2342 - accuracy: 0.9323 - val_loss: 0.2259 - val_accuracy: 0.9381\n",
      "Epoch 15/30\n",
      "50000/50000 - 1s - loss: 0.2280 - accuracy: 0.9335 - val_loss: 0.2225 - val_accuracy: 0.9385\n",
      "Epoch 16/30\n",
      "50000/50000 - 1s - loss: 0.2232 - accuracy: 0.9357 - val_loss: 0.2188 - val_accuracy: 0.9392\n",
      "Epoch 17/30\n",
      "50000/50000 - 1s - loss: 0.2191 - accuracy: 0.9366 - val_loss: 0.2164 - val_accuracy: 0.9407\n",
      "Epoch 18/30\n",
      "50000/50000 - 1s - loss: 0.2141 - accuracy: 0.9373 - val_loss: 0.2137 - val_accuracy: 0.9410\n",
      "Epoch 19/30\n",
      "50000/50000 - 1s - loss: 0.2106 - accuracy: 0.9391 - val_loss: 0.2135 - val_accuracy: 0.9405\n",
      "Epoch 20/30\n",
      "50000/50000 - 1s - loss: 0.2067 - accuracy: 0.9393 - val_loss: 0.2115 - val_accuracy: 0.9420\n",
      "Epoch 21/30\n",
      "50000/50000 - 1s - loss: 0.2035 - accuracy: 0.9402 - val_loss: 0.2081 - val_accuracy: 0.9421\n",
      "Epoch 22/30\n",
      "50000/50000 - 1s - loss: 0.2001 - accuracy: 0.9410 - val_loss: 0.2075 - val_accuracy: 0.9419\n",
      "Epoch 23/30\n",
      "50000/50000 - 1s - loss: 0.1977 - accuracy: 0.9420 - val_loss: 0.2060 - val_accuracy: 0.9431\n",
      "Epoch 24/30\n",
      "50000/50000 - 2s - loss: 0.1945 - accuracy: 0.9428 - val_loss: 0.2104 - val_accuracy: 0.9385\n",
      "Epoch 25/30\n",
      "50000/50000 - 1s - loss: 0.1920 - accuracy: 0.9438 - val_loss: 0.2022 - val_accuracy: 0.9431\n",
      "Epoch 26/30\n",
      "50000/50000 - 1s - loss: 0.1893 - accuracy: 0.9448 - val_loss: 0.2087 - val_accuracy: 0.9408\n",
      "Epoch 27/30\n",
      "50000/50000 - 1s - loss: 0.1875 - accuracy: 0.9447 - val_loss: 0.2004 - val_accuracy: 0.9434\n",
      "Epoch 28/30\n",
      "50000/50000 - 1s - loss: 0.1850 - accuracy: 0.9459 - val_loss: 0.2008 - val_accuracy: 0.9430\n",
      "Epoch 29/30\n",
      "50000/50000 - 1s - loss: 0.1834 - accuracy: 0.9472 - val_loss: 0.1989 - val_accuracy: 0.9437\n",
      "Epoch 30/30\n",
      "50000/50000 - 1s - loss: 0.1811 - accuracy: 0.9467 - val_loss: 0.1979 - val_accuracy: 0.9447\n"
     ]
    }
   ],
   "source": [
    "# train the model\n",
    "history=model.fit(X_train_flat, Y_train, \n",
    "                  batch_size=128, \n",
    "                  epochs=30,\n",
    "                  verbose=2, \n",
    "                  validation_data=(X_val_flat, Y_val)\n",
    "                 )"
   ]
  },
  {
   "cell_type": "code",
   "execution_count": 14,
   "metadata": {},
   "outputs": [
    {
     "data": {
      "image/png": "[encoded data removed]",
      "text/plain": [
       "<Figure size 1200x400 with 2 Axes>"
      ]
     },
     "metadata": {},
     "output_type": "display_data"
    }
   ],
   "source": [
    "# plot the development of the accuracy and loss during training\n",
    "plt.figure(figsize=(12,4))\n",
    "plt.subplot(1,2,(1))\n",
    "plt.plot(history.history['accuracy'],linestyle='-.')\n",
    "plt.plot(history.history['val_accuracy'])\n",
    "plt.title('model accuracy')\n",
    "plt.ylabel('accuracy')\n",
    "plt.xlabel('epoch')\n",
    "plt.legend(['train', 'valid'], loc='lower right')\n",
    "plt.subplot(1,2,(2))\n",
    "plt.plot(history.history['loss'],linestyle='-.')\n",
    "plt.plot(history.history['val_loss'])\n",
    "plt.title('model loss')\n",
    "plt.ylabel('loss')\n",
    "plt.xlabel('epoch')\n",
    "plt.legend(['train', 'valid'], loc='upper right')\n",
    "plt.show()"
   ]
  },
  {
   "cell_type": "code",
   "execution_count": 15,
   "metadata": {},
   "outputs": [
    {
     "name": "stdout",
     "output_type": "stream",
     "text": [
      "[[ 955    0    2    1    0    7    6    3    5    1]\n",
      " [   0 1114    2    4    0    2    5    2    6    0]\n",
      " [   9    6  951   18    5    1   15    9   18    0]\n",
      " [   3    2   15  922    3   29    3   13   16    4]\n",
      " [   4    2    6    0  930    2   11    3    3   21]\n",
      " [  10    1    3   20    4  804   12    6   26    6]\n",
      " [  12    4    5    0    6   12  916    0    3    0]\n",
      " [   3   10   22    7    2    0    0  957    1   26]\n",
      " [   2    8    5   17    4   16    6    5  906    5]\n",
      " [   6    4    0    7   27   11    0   17    9  928]]\n",
      "Acc_fc_orig_flat =  0.9383\n"
     ]
    }
   ],
   "source": [
    "pred=model.predict(X_test_flat)\n",
    "print(confusion_matrix(np.argmax(Y_test,axis=1),np.argmax(pred,axis=1)))\n",
    "acc_fc_orig = np.sum(np.argmax(Y_test,axis=1)==np.argmax(pred,axis=1))/len(pred)\n",
    "print(\"Acc_fc_orig_flat = \" , acc_fc_orig)"
   ]
  },
  {
   "cell_type": "markdown",
   "metadata": {
    "colab_type": "text",
    "id": "Wv898fZgjb-Z"
   },
   "source": [
    "#### Play the deep learning game and ‘stack more layers and change the activation function from sigmoid to relu\n",
    "\n",
    "Exercise [optional]: Try to improve the fcNN by adding more hidden layers and/or changing the activation function from \"sigmoid\" to \"relu\". What do you observe? \n"
   ]
  },
  {
   "cell_type": "code",
   "execution_count": null,
   "metadata": {
    "colab": {},
    "colab_type": "code",
    "id": "6qUgfXcshaZY"
   },
   "outputs": [],
   "source": []
  }
 ],
 "metadata": {
  "accelerator": "GPU",
  "colab": {
   "collapsed_sections": [],
   "name": "nb_ch02_02.ipynb",
   "provenance": []
  },
  "kernelspec": {
   "display_name": "Python 3",
   "language": "python",
   "name": "python3"
  },
  "language_info": {
   "codemirror_mode": {
    "name": "ipython",
    "version": 3
   },
   "file_extension": ".py",
   "mimetype": "text/x-python",
   "name": "python",
   "nbconvert_exporter": "python",
   "pygments_lexer": "ipython3",
   "version": "3.6.10"
  }
 },
 "nbformat": 4,
 "nbformat_minor": 1
}
