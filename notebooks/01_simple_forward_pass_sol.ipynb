{
 "cells": [
  {
   "cell_type": "markdown",
   "metadata": {},
   "source": [
    "## Simple forward pass\n",
    "\n",
    "In this notebook you will do a simple forward pass for a neural network with and without hidden layers. You will use the sigmoid function to calculate the probability if a banknote is fake or not.\n",
    "\n",
    "**Dataset:** You work with a banknote data set and classification task. We have 2 features.\n",
    "\n",
    "* x1: skewness of wavelet transformed image  \n",
    "* x2: entropy of wavelet transformed image  \n",
    "\n",
    "Don't bother too much how these features exactely came from.\n",
    "\n",
    "**The goal is to classify each banknote to either \"real\" (Y=0) or \"fake\" (Y=1).**\n",
    "\n",
    "\n",
    "**Content:**\n",
    "* calculate the forward pass of the neural network without hidden layer by hand, with matrix multiplication and keras\n",
    "* visualize the learned decision boundary in a 2D plot\n",
    "* calculate the forward pass of the neural network with one hidden layer (8 nodes) with matrix multiplication and keras\n",
    "* visualize the learned decision boundary in a 2D plot\n",
    "* compare the decision boundaries of the two models"
   ]
  },
  {
   "cell_type": "markdown",
   "metadata": {},
   "source": [
    "#### Imports"
   ]
  },
  {
   "cell_type": "code",
   "execution_count": 1,
   "metadata": {},
   "outputs": [],
   "source": [
    "import numpy as np\n",
    "import math\n",
    "import matplotlib.pyplot as plt\n",
    "%matplotlib inline\n",
    "\n",
    "from tensorflow.keras.models import Sequential\n",
    "from tensorflow.keras.layers import Dense \n",
    "from tensorflow.keras.utils import to_categorical \n",
    "from tensorflow.keras import optimizers"
   ]
  },
  {
   "cell_type": "code",
   "execution_count": 2,
   "metadata": {},
   "outputs": [],
   "source": [
    "# definition of the sigmoid function\n",
    "def sigmoid(x):\n",
    "    return (1 / (1 + np.exp(-x)))"
   ]
  },
  {
   "cell_type": "code",
   "execution_count": 3,
   "metadata": {},
   "outputs": [],
   "source": [
    "# we just assume x1 and x2\n",
    "x1 = 1\n",
    "x2 = 2.2"
   ]
  },
  {
   "cell_type": "code",
   "execution_count": 4,
   "metadata": {},
   "outputs": [],
   "source": [
    "# we just assume w1 and w2 and b1\n",
    "w1 = 0.3\n",
    "w2 = 0.1\n",
    "b  = 1 "
   ]
  },
  {
   "cell_type": "markdown",
   "metadata": {},
   "source": [
    "### Forwad pass by hand"
   ]
  },
  {
   "cell_type": "code",
   "execution_count": 5,
   "metadata": {},
   "outputs": [
    {
     "data": {
      "text/plain": [
       "1.52"
      ]
     },
     "execution_count": 5,
     "metadata": {},
     "output_type": "execute_result"
    }
   ],
   "source": [
    "(x1*w1+x2*w2)+b ## output before the activation"
   ]
  },
  {
   "cell_type": "code",
   "execution_count": 6,
   "metadata": {},
   "outputs": [
    {
     "data": {
      "text/plain": [
       "0.8205384805926733"
      ]
     },
     "execution_count": 6,
     "metadata": {},
     "output_type": "execute_result"
    }
   ],
   "source": [
    "sigmoid((x1*w1+x2*w2)+b) ## output after the sigmoid activation\n",
    "                         ## probability for the banknote to be fake"
   ]
  },
  {
   "cell_type": "markdown",
   "metadata": {},
   "source": [
    "### Forwad pass with matrix multiplication"
   ]
  },
  {
   "cell_type": "code",
   "execution_count": 7,
   "metadata": {},
   "outputs": [],
   "source": [
    "X=np.array([[x1,x2]])"
   ]
  },
  {
   "cell_type": "code",
   "execution_count": 8,
   "metadata": {},
   "outputs": [],
   "source": [
    "W=np.array([[w1],[w2]])"
   ]
  },
  {
   "cell_type": "code",
   "execution_count": 9,
   "metadata": {},
   "outputs": [
    {
     "name": "stdout",
     "output_type": "stream",
     "text": [
      "(1, 2)\n",
      "(2, 1)\n"
     ]
    }
   ],
   "source": [
    "print(X.shape)\n",
    "print(W.shape)"
   ]
  },
  {
   "cell_type": "code",
   "execution_count": 10,
   "metadata": {},
   "outputs": [
    {
     "data": {
      "text/plain": [
       "array([[1.52]])"
      ]
     },
     "execution_count": 10,
     "metadata": {},
     "output_type": "execute_result"
    }
   ],
   "source": [
    "np.matmul(X,W)+b  ## output before the activation"
   ]
  },
  {
   "cell_type": "code",
   "execution_count": 11,
   "metadata": {},
   "outputs": [
    {
     "data": {
      "text/plain": [
       "array([[0.82053848]])"
      ]
     },
     "execution_count": 11,
     "metadata": {},
     "output_type": "execute_result"
    }
   ],
   "source": [
    "sigmoid(np.matmul(X,W)+b) ## output after the sigmoid activation\n",
    "                          ## probability for the banknote to be fake"
   ]
  },
  {
   "cell_type": "code",
   "execution_count": 12,
   "metadata": {},
   "outputs": [],
   "source": [
    "## funtion to return the probaiblity output after the matrix multiplication\n",
    "def predict_no_hidden(X):\n",
    "    return sigmoid(np.matmul(X,W)+b)"
   ]
  },
  {
   "cell_type": "code",
   "execution_count": 13,
   "metadata": {},
   "outputs": [],
   "source": [
    "### funtion to plot the decision boundary \n",
    "def plotModel(predict, t):\n",
    "    # define a grid for the 2D feature space\n",
    "    # predict at each grid point the probability for class 1\n",
    "\n",
    "    x1list = np.linspace(-10, 10, 10) # Define 100 points on the x-axis\n",
    "    x2list = np.linspace(-10, 10, 10) # Define 100 points on the x-axis\n",
    "    X1_grid, X2_grid = np.meshgrid(x1list, x2list)\n",
    "\n",
    "    # model.predict for respective value x1 and x2 \n",
    "    p = np.array([predict(np.reshape(np.array([l1,l2]),(1,2))) for l1,l2 in zip(np.ravel(X1_grid), np.ravel(X2_grid))])\n",
    "    print(p.shape)\n",
    "    if len(p.shape) == 3 and p.shape[2]==2:\n",
    "        p = p[:,:,1] # pick p for class 1 if there are more than 2 classes\n",
    "    p = np.reshape(p,X1_grid.shape)\n",
    "\n",
    "    # visualize the predicted probabilities in the 2D feature space\n",
    "    # once without and once with the data points used for fitting\n",
    "    plt.figure(figsize=(16,4))\n",
    "    plt.subplot(1,2,(1))\n",
    "    cp = plt.contourf(X1_grid, X2_grid, p,cmap='RdBu_r')\n",
    "    plt.colorbar(cp)\n",
    "    plt.title(t)\n",
    "    plt.xlabel('x1')\n",
    "    plt.ylabel('x2')"
   ]
  },
  {
   "cell_type": "markdown",
   "metadata": {},
   "source": [
    "#### Exercise \n",
    "Play around with the values for x1 and x2 and check if the position at the decision boundary\n",
    "matches the predicted probability\n",
    "How does the decision boundary look? \n"
   ]
  },
  {
   "cell_type": "code",
   "execution_count": 14,
   "metadata": {},
   "outputs": [
    {
     "name": "stdout",
     "output_type": "stream",
     "text": [
      "(100, 1, 1)\n"
     ]
    },
    {
     "data": {
      "text/plain": [
       "<matplotlib.collections.PathCollection at 0x14ff4149908>"
      ]
     },
     "execution_count": 14,
     "metadata": {},
     "output_type": "execute_result"
    },
    {
     "data": {
      "image/png": "[encoded data removed]",
      "text/plain": [
       "<Figure size 1152x288 with 2 Axes>"
      ]
     },
     "metadata": {
      "needs_background": "light"
     },
     "output_type": "display_data"
    }
   ],
   "source": [
    "plotModel(predict_no_hidden, t='fcnn separation without hidden layer')\n",
    "plt.scatter(x1,x2,c=\"black\",s=50)"
   ]
  },
  {
   "cell_type": "markdown",
   "metadata": {},
   "source": [
    "### Forwad pass with hidden layer (matrix multiplication)"
   ]
  },
  {
   "cell_type": "code",
   "execution_count": 15,
   "metadata": {},
   "outputs": [],
   "source": [
    "# we use the same values for x1 and x2 and random normal values for the weights\n",
    "X=np.array([[x1,x2]])\n",
    "np.random.seed(22)\n",
    "W1=np.reshape((np.random.normal(0,1,16)),(2,8))\n",
    "np.random.seed(22)\n",
    "b1=np.reshape((np.random.normal(0,1,8)),(8,))\n",
    "np.random.seed(22)\n",
    "W2=np.reshape((np.random.normal(0,1,8)),(8,1))\n",
    "np.random.seed(22)\n",
    "b2=np.reshape((np.random.normal(0,1,1)),(1,))"
   ]
  },
  {
   "cell_type": "code",
   "execution_count": 16,
   "metadata": {},
   "outputs": [
    {
     "name": "stdout",
     "output_type": "stream",
     "text": [
      "(1, 2)\n",
      "(2, 8)\n",
      "(8,)\n",
      "(8, 1)\n",
      "(1,)\n"
     ]
    }
   ],
   "source": [
    "print(X.shape)\n",
    "print(W1.shape)\n",
    "print(b1.shape)\n",
    "print(W2.shape)\n",
    "print(b2.shape)"
   ]
  },
  {
   "cell_type": "code",
   "execution_count": 17,
   "metadata": {},
   "outputs": [
    {
     "data": {
      "text/plain": [
       "array([[0.76752454, 0.01533699, 0.90265373, 0.27163597, 0.57707969,\n",
       "        0.41351693, 0.37964327, 0.52893641]])"
      ]
     },
     "execution_count": 17,
     "metadata": {},
     "output_type": "execute_result"
    }
   ],
   "source": [
    "hidden=sigmoid(np.matmul(X,W1)+b1)\n",
    "hidden"
   ]
  },
  {
   "cell_type": "code",
   "execution_count": 18,
   "metadata": {},
   "outputs": [
    {
     "data": {
      "text/plain": [
       "array([[0.44860787]])"
      ]
     },
     "execution_count": 18,
     "metadata": {},
     "output_type": "execute_result"
    }
   ],
   "source": [
    "p_out=sigmoid(np.matmul(hidden,W2)+b2)\n",
    "p_out"
   ]
  },
  {
   "cell_type": "code",
   "execution_count": 19,
   "metadata": {},
   "outputs": [],
   "source": [
    "## funtion to return the probaiblity output after the hidden layer \n",
    "def predict_hidden(X):\n",
    "    hidden=sigmoid(np.matmul(X,W1)+b1)\n",
    "    return(sigmoid(np.matmul(hidden,W2)+b2))"
   ]
  },
  {
   "cell_type": "code",
   "execution_count": 20,
   "metadata": {},
   "outputs": [
    {
     "data": {
      "text/plain": [
       "(array([[1. , 2.2]]), array([[0.44860787]]))"
      ]
     },
     "execution_count": 20,
     "metadata": {},
     "output_type": "execute_result"
    }
   ],
   "source": [
    "X,predict_hidden(X)"
   ]
  },
  {
   "cell_type": "code",
   "execution_count": 21,
   "metadata": {},
   "outputs": [
    {
     "name": "stdout",
     "output_type": "stream",
     "text": [
      "(100, 1, 1)\n"
     ]
    },
    {
     "data": {
      "text/plain": [
       "<matplotlib.collections.PathCollection at 0x14ff4327940>"
      ]
     },
     "execution_count": 21,
     "metadata": {},
     "output_type": "execute_result"
    },
    {
     "data": {
      "image/png": "[encoded data removed]",
      "text/plain": [
       "<Figure size 1152x288 with 2 Axes>"
      ]
     },
     "metadata": {
      "needs_background": "light"
     },
     "output_type": "display_data"
    }
   ],
   "source": [
    "plotModel(predict_hidden, t='fcnn separation with hidden layer')\n",
    "plt.scatter(x1,x2,c=\"black\",s=50)"
   ]
  },
  {
   "cell_type": "markdown",
   "metadata": {},
   "source": [
    "#### Exercise \n",
    "Play around with the values for x1 and x2 and check if the position at the decision boundary\n",
    "matches the predicted probability\n",
    "How does the decision boundary look? "
   ]
  },
  {
   "cell_type": "markdown",
   "metadata": {},
   "source": [
    "# Keras \n",
    "\n",
    "**Look at this part after the introduction of Keras.**\n",
    "\n",
    "\n",
    "We now do the same as above using Keras."
   ]
  },
  {
   "cell_type": "markdown",
   "metadata": {},
   "source": [
    "### Forwad pass in keras"
   ]
  },
  {
   "cell_type": "code",
   "execution_count": 22,
   "metadata": {},
   "outputs": [
    {
     "name": "stdout",
     "output_type": "stream",
     "text": [
      "Model: \"sequential\"\n",
      "_________________________________________________________________\n",
      "Layer (type)                 Output Shape              Param #   \n",
      "=================================================================\n",
      "dense (Dense)                (None, 1)                 3         \n",
      "=================================================================\n",
      "Total params: 3\n",
      "Trainable params: 3\n",
      "Non-trainable params: 0\n",
      "_________________________________________________________________\n"
     ]
    }
   ],
   "source": [
    "model = Sequential()                                        # starts the definition of the network\n",
    "model.add(Dense(1, batch_input_shape=(None, 2),             # adds a new layer to the network with a single neuron  \n",
    "                activation='sigmoid'))                      # The input is a tensor of size (batch_size, 2), \n",
    "                                                            # since we don’t specify the Batch Size now, we use None as a placeholder\n",
    "                                                            # chooses the activation function ‘sigmoid’\n",
    "\n",
    "model.summary()"
   ]
  },
  {
   "cell_type": "code",
   "execution_count": 23,
   "metadata": {},
   "outputs": [],
   "source": [
    "model.set_weights([W,np.array([b])])                        ## set the weights of the model to w1 w2 and b"
   ]
  },
  {
   "cell_type": "code",
   "execution_count": 24,
   "metadata": {},
   "outputs": [
    {
     "name": "stdout",
     "output_type": "stream",
     "text": [
      "(100, 1, 1)\n"
     ]
    },
    {
     "data": {
      "text/plain": [
       "<matplotlib.collections.PathCollection at 0x14ff41fc160>"
      ]
     },
     "execution_count": 24,
     "metadata": {},
     "output_type": "execute_result"
    },
    {
     "data": {
      "image/png": "[encoded data removed]",
      "text/plain": [
       "<Figure size 1152x288 with 2 Axes>"
      ]
     },
     "metadata": {
      "needs_background": "light"
     },
     "output_type": "display_data"
    }
   ],
   "source": [
    "# Plotting the decision boundary\n",
    "plotModel(model.predict, 'fcnn separation without hidden layer with keras') \n",
    "plt.scatter(X[0][0],X[0][1],c=\"black\",s=50)"
   ]
  },
  {
   "cell_type": "markdown",
   "metadata": {},
   "source": [
    "### Forwad pass with hidden layer (keras)"
   ]
  },
  {
   "cell_type": "code",
   "execution_count": 25,
   "metadata": {},
   "outputs": [
    {
     "name": "stdout",
     "output_type": "stream",
     "text": [
      "Model: \"sequential_1\"\n",
      "_________________________________________________________________\n",
      "Layer (type)                 Output Shape              Param #   \n",
      "=================================================================\n",
      "dense_1 (Dense)              (None, 8)                 24        \n",
      "_________________________________________________________________\n",
      "dense_2 (Dense)              (None, 1)                 9         \n",
      "=================================================================\n",
      "Total params: 33\n",
      "Trainable params: 33\n",
      "Non-trainable params: 0\n",
      "_________________________________________________________________\n"
     ]
    }
   ],
   "source": [
    "model = Sequential()                                        \n",
    "model.add(Dense(8, batch_input_shape=(None, 2),activation='sigmoid'))                      \n",
    "model.add(Dense(1, activation='sigmoid'))                      \n",
    "model.summary()"
   ]
  },
  {
   "cell_type": "code",
   "execution_count": 26,
   "metadata": {},
   "outputs": [],
   "source": [
    "model.set_weights([W1,b1,W2,b2]) ## set the weights of the model to W1, b1, W2 and b2"
   ]
  },
  {
   "cell_type": "code",
   "execution_count": 27,
   "metadata": {},
   "outputs": [
    {
     "name": "stdout",
     "output_type": "stream",
     "text": [
      "(100, 1, 1)\n"
     ]
    },
    {
     "data": {
      "text/plain": [
       "<matplotlib.collections.PathCollection at 0x14ff56752e8>"
      ]
     },
     "execution_count": 27,
     "metadata": {},
     "output_type": "execute_result"
    },
    {
     "data": {
      "image/png": "[encoded data removed]",
      "text/plain": [
       "<Figure size 1152x288 with 2 Axes>"
      ]
     },
     "metadata": {
      "needs_background": "light"
     },
     "output_type": "display_data"
    }
   ],
   "source": [
    "# Plotting the decision boundary\n",
    "\n",
    "plotModel(model.predict, 'fcnn separation with hidden layer keras') \n",
    "plt.scatter(X[0][0],X[0][1],c=\"black\",s=50)\n",
    "#plt.vlines(X[0][0],-10,10)\n",
    "#plt.hlines(X[0][1],-10,10)"
   ]
  },
  {
   "cell_type": "code",
   "execution_count": null,
   "metadata": {},
   "outputs": [],
   "source": []
  }
 ],
 "metadata": {
  "kernelspec": {
   "display_name": "Python 3",
   "language": "python",
   "name": "python3"
  },
  "language_info": {
   "codemirror_mode": {
    "name": "ipython",
    "version": 3
   },
   "file_extension": ".py",
   "mimetype": "text/x-python",
   "name": "python",
   "nbconvert_exporter": "python",
   "pygments_lexer": "ipython3",
   "version": "3.6.10"
  }
 },
 "nbformat": 4,
 "nbformat_minor": 4
}
