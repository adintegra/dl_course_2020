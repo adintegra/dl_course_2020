{
 "cells": [
  {
   "cell_type": "markdown",
   "metadata": {
    "colab_type": "text",
    "id": "tbTYFRhJoaBu"
   },
   "source": [
    "# MNIST digit classification before and after shuffling\n",
    "\n",
    "\n",
    "**Goal:** In this notebook you will see in an classification task, that the order of the input data for a fully connected networks (fcNN) does not matter (because every node is connected to every other in the next layer). This is different when you use a convolutional neural network (CNN), the local structure is important for its perfomance \n",
    "\n",
    "\n",
    "**Usage:** The idea of the notebook is that you try to understand the provided code by running it, checking the output and playing with it by slightly changing the code and rerunning it. \n",
    "\n",
    "**Dataset:** You work with the MNIST dataset. We have 60'000 28x28 pixel greyscale images of digits and want to classify them into the right label (0-9).\n",
    "\n",
    "**Content:**\n",
    "* load the original MNIST data and create a randomly shuffled version of the data\n",
    "* visualize samples of the orginal and shuffled version of the data\n",
    "* flatten the original and shuffled version of the data\n",
    "* use keras to train a fcNN with the original and shuffled (flattened) data and compare the perfomance on new unseen test data\n",
    "* use keras to train a CNN with the original and shuffled data and compare the perfomance on new unseen test data\n",
    "* check if the local structure of the pixels within the images have an impact on the classification performance when you use a fcNN and a CNN\n",
    "\n",
    "\n",
    "| [open in colab](https://colab.research.google.com/github/tensorchiefs/dl_book/blob/master/chapter_02/nb_ch02_02.ipynb)\n",
    "\n"
   ]
  },
  {
   "cell_type": "markdown",
   "metadata": {
    "colab_type": "text",
    "id": "PEIS4WvpsT5t"
   },
   "source": [
    "#### Imports\n",
    "\n",
    "In the next two cells, we load all the required libraries and functions. We download the Mnist data, normalize the pixelvalues to be between 0 and 1, and seperate it into a training and validation set."
   ]
  },
  {
   "cell_type": "code",
   "execution_count": 17,
   "metadata": {
    "colab": {},
    "colab_type": "code",
    "id": "Y6S_hQX5oaBw",
    "scrolled": true
   },
   "outputs": [],
   "source": [
    "# load required libraries:\n",
    "import numpy as np\n",
    "import matplotlib.pyplot as plt\n",
    "%matplotlib inline\n",
    "plt.style.use('default')\n",
    "from sklearn.metrics import confusion_matrix\n",
    "\n",
    "from tensorflow.keras.models import Sequential\n",
    "from tensorflow.keras.layers import Dense, Convolution2D, MaxPooling2D, Flatten , Activation\n",
    "from tensorflow.keras.utils import to_categorical \n",
    "from tensorflow.keras import optimizers\n"
   ]
  },
  {
   "cell_type": "code",
   "execution_count": 18,
   "metadata": {
    "colab": {
     "base_uri": "https://localhost:8080/",
     "height": 70
    },
    "colab_type": "code",
    "id": "4sZ8lqFfoaB2",
    "outputId": "a9aa1a96-4707-440b-a43f-9de241343a5d"
   },
   "outputs": [
    {
     "name": "stdout",
     "output_type": "stream",
     "text": [
      "(50000, 28, 28, 1)\n",
      "(10000, 28, 28, 1)\n",
      "(10000, 28, 28, 1)\n"
     ]
    }
   ],
   "source": [
    "from tensorflow.keras.datasets import mnist\n",
    "(x_train, y_train), (x_test, y_test) = mnist.load_data()\n",
    "\n",
    "# separate x_train in X_train and X_val, same for y_train\n",
    "X_train=x_train[0:50000] / 255 #divide by 255 so that they are in range 0 to 1\n",
    "Y_train=to_categorical(y_train[0:50000],10) # one-hot encoding\n",
    "\n",
    "X_val=x_train[50000:60000] / 255\n",
    "Y_val=to_categorical(y_train[50000:60000],10)\n",
    "\n",
    "X_test=x_test / 255\n",
    "Y_test=to_categorical(y_test,10)\n",
    "\n",
    "del x_train, y_train, x_test, y_test\n",
    "\n",
    "X_train=np.reshape(X_train, (X_train.shape[0],28,28,1))\n",
    "X_val=np.reshape(X_val, (X_val.shape[0],28,28,1))\n",
    "X_test=np.reshape(X_test, (X_test.shape[0],28,28,1))\n",
    "\n",
    "print(X_train.shape)\n",
    "print(X_val.shape)\n",
    "print(X_test.shape)"
   ]
  },
  {
   "cell_type": "code",
   "execution_count": 19,
   "metadata": {},
   "outputs": [],
   "source": [
    "# make trainset smaller to fit the model faster on CPU\n",
    "X_train=X_train[0:30000]\n",
    "Y_train=Y_train[0:30000]"
   ]
  },
  {
   "cell_type": "markdown",
   "metadata": {
    "colab_type": "text",
    "id": "3ly7CrHtLUP9"
   },
   "source": [
    "Let's visualize the first 4 mnist images before shuffling the pixels randomly around. It is very easy to recognise the true label of the digits."
   ]
  },
  {
   "cell_type": "code",
   "execution_count": 20,
   "metadata": {
    "colab": {
     "base_uri": "https://localhost:8080/",
     "height": 285
    },
    "colab_type": "code",
    "id": "c4gUgwGUeftF",
    "outputId": "4b0d711f-0756-4580-f59f-70f6275ae7ff"
   },
   "outputs": [
    {
     "data": {
      "image/png": "[encoded data removed]",
      "text/plain": [
       "<Figure size 1200x1200 with 4 Axes>"
      ]
     },
     "metadata": {},
     "output_type": "display_data"
    }
   ],
   "source": [
    "# visualize the 4 first mnist images before shuffling the pixels\n",
    "plt.figure(figsize=(12,12))\n",
    "for i in range(0,4):\n",
    "    plt.subplot(1,4,(i+1))\n",
    "    plt.imshow((X_train[i,:,:,0]),cmap=\"gray\")\n",
    "    plt.title('true label: '+np.str(np.argmax(Y_train,axis=1)[i]))\n",
    "    #plt.axis('off')"
   ]
  },
  {
   "cell_type": "markdown",
   "metadata": {
    "colab_type": "text",
    "id": "m6laMbqWLqlz"
   },
   "source": [
    "In the next cell we shuffle the pixel of each image randomly around. Note that we shuffle every image in same manner!"
   ]
  },
  {
   "cell_type": "code",
   "execution_count": 21,
   "metadata": {
    "colab": {},
    "colab_type": "code",
    "id": "o744FOiN1S6y"
   },
   "outputs": [],
   "source": [
    "# function to shuffle the pixel order within an image\n",
    "# used to shuffel the pixels of all mnist images in the same manner\n",
    "def shuffel_pixels(idx, data):\n",
    "  data_new=np.zeros((data.shape))\n",
    "  for i,img in enumerate(data):\n",
    "    data_new[i] = img.flatten()[idx].reshape((28,28,1))\n",
    "  return data_new\n",
    "\n",
    "np.random.seed(42)\n",
    "shuffel_idx = np.random.permutation(np.arange(28*28))\n",
    "X_train_shuffle = shuffel_pixels(shuffel_idx, X_train)\n",
    "X_val_shuffle = shuffel_pixels(shuffel_idx, X_val)\n",
    "X_test_shuffle = shuffel_pixels(shuffel_idx, X_test)"
   ]
  },
  {
   "cell_type": "markdown",
   "metadata": {
    "colab_type": "text",
    "id": "VXK_HJbdMAeg"
   },
   "source": [
    "Let's visualize the first 4 mnist images after shuffling the pixels randomly around. Now as a human you have no chance to recognise the true label of the digits."
   ]
  },
  {
   "cell_type": "code",
   "execution_count": 22,
   "metadata": {
    "colab": {
     "base_uri": "https://localhost:8080/",
     "height": 285
    },
    "colab_type": "code",
    "id": "ZrZk47bkoaB7",
    "outputId": "6a4d13c9-5063-4894-a1d3-8813f83fd9fc"
   },
   "outputs": [
    {
     "data": {
      "image/png": "[encoded data removed]",
      "text/plain": [
       "<Figure size 1200x1200 with 4 Axes>"
      ]
     },
     "metadata": {},
     "output_type": "display_data"
    }
   ],
   "source": [
    "# visualize the 4 first mnist images after shuffling the pixels\n",
    "plt.figure(figsize=(12,12))\n",
    "for i in range(0,4):\n",
    "    plt.subplot(1,4,(i+1))\n",
    "    plt.imshow((X_train_shuffle[i,:,:,0]),cmap=\"gray\")\n",
    "    plt.title('true label: '+np.str(np.argmax(Y_train,axis=1)[i]))"
   ]
  },
  {
   "cell_type": "markdown",
   "metadata": {
    "colab_type": "text",
    "id": "ZaRFUEP8HJkq"
   },
   "source": [
    "# CNN as classification model for MNIST data\n",
    "\n",
    "Note: **Please only go on, after you read the CNN part in the book.**\n",
    "\n",
    "Now, let's do the same game with a CNN. We train a CNN to classify the MNIST data. We use the same netwok architecture and train first with the original data and then with the shuffled data. \n",
    "* Use a CNN with 2 convolution blocks and 2 fully connected layers as classification model\n",
    "* train it once on the original train data and check the performance on the original test data\n",
    "* train it once on the shuffeled train data and check the performance on the accordingly shuffled test data"
   ]
  },
  {
   "cell_type": "markdown",
   "metadata": {
    "colab_type": "text",
    "id": "cFJtO1FFHJkz"
   },
   "source": [
    "### Train the CNN on the original data"
   ]
  },
  {
   "cell_type": "code",
   "execution_count": 23,
   "metadata": {
    "colab": {
     "base_uri": "https://localhost:8080/",
     "height": 35
    },
    "colab_type": "code",
    "id": "iq45_Gs1HJk1",
    "outputId": "00418d71-9acb-4e95-d497-1d23763f1e8d"
   },
   "outputs": [
    {
     "data": {
      "text/plain": [
       "((30000, 28, 28, 1), (30000, 10), (10000, 28, 28, 1), (10000, 10))"
      ]
     },
     "execution_count": 23,
     "metadata": {},
     "output_type": "execute_result"
    }
   ],
   "source": [
    "# check the shape of the orginal data\n",
    "# we need matrices as input\n",
    "X_train.shape,Y_train.shape,X_val.shape,Y_val.shape"
   ]
  },
  {
   "cell_type": "markdown",
   "metadata": {
    "colab_type": "text",
    "id": "fFBbAdLeTZuv"
   },
   "source": [
    "In the next cell we define the hyperparameters and architecture of the CNN. We use:\n",
    ">the relu activation function  \n",
    ">batchsize of 128  \n",
    ">kernelsize of 3x3  \n",
    ">poolingsize of 2x2   \n",
    ">our inputs are the greyscaled MNIST images, so the shape is 28x28x1  \n",
    "> we use 2 convolutional blocks with 8 filters and then a maxpooling layer followed by again 2 convolutional blocks with 16 filters and then a maxpooling  \n",
    "> then we flatten the output and use a fully connected layer with 40 nodes and the output has 10 nodes with the softmax activation."
   ]
  },
  {
   "cell_type": "code",
   "execution_count": 24,
   "metadata": {
    "colab": {},
    "colab_type": "code",
    "id": "JSfYQ4f1KYVp"
   },
   "outputs": [],
   "source": [
    "# here we define hyperparameter of the CNN\n",
    "batch_size = 128\n",
    "nb_classes = 10\n",
    "img_rows, img_cols = 28, 28\n",
    "kernel_size = (3, 3)\n",
    "input_shape = (img_rows, img_cols, 1)\n",
    "pool_size = (2, 2)"
   ]
  },
  {
   "cell_type": "markdown",
   "metadata": {
    "colab_type": "text",
    "id": "AJWFmceZii1-"
   },
   "source": [
    "#### Listing 2.6 A CNN for MNIST classification                                                                                                                     "
   ]
  },
  {
   "cell_type": "code",
   "execution_count": 25,
   "metadata": {
    "colab": {},
    "colab_type": "code",
    "id": "3xwh0iYrHJk_"
   },
   "outputs": [],
   "source": [
    "# define CNN with 2 convolution blocks and 2 fully connected layers\n",
    "model = Sequential()\n",
    "\n",
    "model.add(Convolution2D(8,kernel_size,padding='same',input_shape=input_shape))\n",
    "model.add(Activation('relu'))\n",
    "model.add(Convolution2D(8, kernel_size,padding='same'))\n",
    "model.add(Activation('relu'))\n",
    "model.add(MaxPooling2D(pool_size=pool_size))\n",
    "\n",
    "model.add(Convolution2D(16, kernel_size,padding='same'))\n",
    "model.add(Activation('relu'))\n",
    "model.add(Convolution2D(16,kernel_size,padding='same'))\n",
    "model.add(Activation('relu'))\n",
    "model.add(MaxPooling2D(pool_size=pool_size))\n",
    "\n",
    "model.add(Flatten())\n",
    "model.add(Dense(40))\n",
    "model.add(Activation('relu'))\n",
    "model.add(Dense(nb_classes))\n",
    "model.add(Activation('softmax'))\n",
    "\n",
    "# compile model and intitialize weights\n",
    "model.compile(loss='categorical_crossentropy',\n",
    "              optimizer='adam',\n",
    "              metrics=['accuracy'])"
   ]
  },
  {
   "cell_type": "code",
   "execution_count": 26,
   "metadata": {
    "colab": {
     "base_uri": "https://localhost:8080/",
     "height": 692
    },
    "colab_type": "code",
    "id": "blxHZguwHJlG",
    "outputId": "59563cde-941c-408c-e2e4-b178607a02bf"
   },
   "outputs": [
    {
     "name": "stdout",
     "output_type": "stream",
     "text": [
      "Model: \"sequential_2\"\n",
      "_________________________________________________________________\n",
      "Layer (type)                 Output Shape              Param #   \n",
      "=================================================================\n",
      "conv2d_8 (Conv2D)            (None, 28, 28, 8)         80        \n",
      "_________________________________________________________________\n",
      "activation_12 (Activation)   (None, 28, 28, 8)         0         \n",
      "_________________________________________________________________\n",
      "conv2d_9 (Conv2D)            (None, 28, 28, 8)         584       \n",
      "_________________________________________________________________\n",
      "activation_13 (Activation)   (None, 28, 28, 8)         0         \n",
      "_________________________________________________________________\n",
      "max_pooling2d_4 (MaxPooling2 (None, 14, 14, 8)         0         \n",
      "_________________________________________________________________\n",
      "conv2d_10 (Conv2D)           (None, 14, 14, 16)        1168      \n",
      "_________________________________________________________________\n",
      "activation_14 (Activation)   (None, 14, 14, 16)        0         \n",
      "_________________________________________________________________\n",
      "conv2d_11 (Conv2D)           (None, 14, 14, 16)        2320      \n",
      "_________________________________________________________________\n",
      "activation_15 (Activation)   (None, 14, 14, 16)        0         \n",
      "_________________________________________________________________\n",
      "max_pooling2d_5 (MaxPooling2 (None, 7, 7, 16)          0         \n",
      "_________________________________________________________________\n",
      "flatten_2 (Flatten)          (None, 784)               0         \n",
      "_________________________________________________________________\n",
      "dense_4 (Dense)              (None, 40)                31400     \n",
      "_________________________________________________________________\n",
      "activation_16 (Activation)   (None, 40)                0         \n",
      "_________________________________________________________________\n",
      "dense_5 (Dense)              (None, 10)                410       \n",
      "_________________________________________________________________\n",
      "activation_17 (Activation)   (None, 10)                0         \n",
      "=================================================================\n",
      "Total params: 35,962\n",
      "Trainable params: 35,962\n",
      "Non-trainable params: 0\n",
      "_________________________________________________________________\n"
     ]
    }
   ],
   "source": [
    "# summarize model along with number of model weights\n",
    "model.summary()"
   ]
  },
  {
   "cell_type": "code",
   "execution_count": 27,
   "metadata": {
    "colab": {
     "base_uri": "https://localhost:8080/",
     "height": 390
    },
    "colab_type": "code",
    "id": "430DSTDIHJlP",
    "outputId": "d6f2bfb8-f8fa-4af2-b849-4e7022e3be10"
   },
   "outputs": [
    {
     "name": "stdout",
     "output_type": "stream",
     "text": [
      "Train on 30000 samples, validate on 10000 samples\n",
      "Epoch 1/10\n",
      "30000/30000 [==============================] - 34s 1ms/sample - loss: 0.4757 - accuracy: 0.8543 - val_loss: 0.1390 - val_accuracy: 0.9604\n",
      "Epoch 2/10\n",
      "30000/30000 [==============================] - 36s 1ms/sample - loss: 0.1140 - accuracy: 0.9665 - val_loss: 0.1059 - val_accuracy: 0.9682\n",
      "Epoch 3/10\n",
      "30000/30000 [==============================] - 38s 1ms/sample - loss: 0.0797 - accuracy: 0.9747 - val_loss: 0.0787 - val_accuracy: 0.9779\n",
      "Epoch 4/10\n",
      "30000/30000 [==============================] - 36s 1ms/sample - loss: 0.0625 - accuracy: 0.9802 - val_loss: 0.0678 - val_accuracy: 0.9824\n",
      "Epoch 5/10\n",
      "30000/30000 [==============================] - 34s 1ms/sample - loss: 0.0519 - accuracy: 0.9835 - val_loss: 0.0707 - val_accuracy: 0.9780\n",
      "Epoch 6/10\n",
      "30000/30000 [==============================] - 32s 1ms/sample - loss: 0.0452 - accuracy: 0.9857 - val_loss: 0.0610 - val_accuracy: 0.9819\n",
      "Epoch 7/10\n",
      "30000/30000 [==============================] - 32s 1ms/sample - loss: 0.0354 - accuracy: 0.9890 - val_loss: 0.0606 - val_accuracy: 0.9830\n",
      "Epoch 8/10\n",
      "30000/30000 [==============================] - 32s 1ms/sample - loss: 0.0312 - accuracy: 0.9901 - val_loss: 0.0566 - val_accuracy: 0.9841\n",
      "Epoch 9/10\n",
      "30000/30000 [==============================] - 32s 1ms/sample - loss: 0.0260 - accuracy: 0.9920 - val_loss: 0.0619 - val_accuracy: 0.9838\n",
      "Epoch 10/10\n",
      "30000/30000 [==============================] - 32s 1ms/sample - loss: 0.0239 - accuracy: 0.9914 - val_loss: 0.0528 - val_accuracy: 0.9864\n"
     ]
    }
   ],
   "source": [
    "# train the model\n",
    "history=model.fit(X_train, Y_train, \n",
    "                  batch_size=128, \n",
    "                  epochs=10,\n",
    "                  verbose=1, \n",
    "                  validation_data=(X_val, Y_val)\n",
    "                 )"
   ]
  },
  {
   "cell_type": "code",
   "execution_count": 28,
   "metadata": {
    "colab": {
     "base_uri": "https://localhost:8080/",
     "height": 428
    },
    "colab_type": "code",
    "id": "q8GcmSWoHJlX",
    "outputId": "b6b324e6-b986-4aa6-9778-567490d0cf4d"
   },
   "outputs": [
    {
     "data": {
      "text/plain": [
       "<matplotlib.legend.Legend at 0x24810d8ee10>"
      ]
     },
     "execution_count": 28,
     "metadata": {},
     "output_type": "execute_result"
    },
    {
     "data": {
      "image/png": "[encoded data removed]",
      "text/plain": [
       "<Figure size 1200x400 with 2 Axes>"
      ]
     },
     "metadata": {},
     "output_type": "display_data"
    }
   ],
   "source": [
    "# plot the development of the accuracy and loss during training\n",
    "plt.figure(figsize=(12,4))\n",
    "plt.subplot(1,2,(1))\n",
    "plt.plot(history.history['accuracy'],linestyle='-.')\n",
    "plt.plot(history.history['val_accuracy'])\n",
    "plt.title('model accuracy')\n",
    "plt.ylabel('accuracy')\n",
    "plt.xlabel('epoch')\n",
    "plt.legend(['train', 'valid'], loc='lower right')\n",
    "plt.subplot(1,2,(2))\n",
    "plt.plot(history.history['loss'],linestyle='-.')\n",
    "plt.plot(history.history['val_loss'])\n",
    "plt.title('model loss')\n",
    "plt.ylabel('loss')\n",
    "plt.xlabel('epoch')\n",
    "plt.legend(['train', 'valid'], loc='upper right')"
   ]
  },
  {
   "cell_type": "markdown",
   "metadata": {
    "colab_type": "text",
    "id": "CAcwJRvDHJlf"
   },
   "source": [
    "#### Prediction on the test set after training on original data\n",
    "\n",
    "Now, let's use CNN that was trained on the original data to predict new unseen data (our testdata). We determine the confusion matrix and the accuracy on the testdata to evaluate the classification performance."
   ]
  },
  {
   "cell_type": "code",
   "execution_count": 29,
   "metadata": {
    "colab": {
     "base_uri": "https://localhost:8080/",
     "height": 212
    },
    "colab_type": "code",
    "id": "AdB-5bEjHJlh",
    "outputId": "46cb9a10-b37b-4238-94f4-639e87e96a5a"
   },
   "outputs": [
    {
     "name": "stdout",
     "output_type": "stream",
     "text": [
      "[[ 973    0    1    0    0    0    2    1    3    0]\n",
      " [   0 1127    2    1    0    0    3    1    1    0]\n",
      " [   3    0 1018    1    0    0    0    3    7    0]\n",
      " [   0    0    2 1000    0    4    0    1    2    1]\n",
      " [   0    0    0    1  972    0    1    1    1    6]\n",
      " [   1    0    1    8    0  880    1    0    1    0]\n",
      " [   5    2    1    0    3    5  939    0    3    0]\n",
      " [   1    4    6    2    0    0    0 1008    2    5]\n",
      " [   3    0    4    2    0    4    0    0  959    2]\n",
      " [   1    2    0    1    1    3    0    2    3  996]]\n",
      "Acc_cnn_orig =  0.9872\n"
     ]
    }
   ],
   "source": [
    "pred=model.predict(X_test)\n",
    "print(confusion_matrix(np.argmax(Y_test,axis=1),np.argmax(pred,axis=1)))\n",
    "acc_fc_orig = np.sum(np.argmax(Y_test,axis=1)==np.argmax(pred,axis=1))/len(pred)\n",
    "print(\"Acc_cnn_orig = \" , acc_fc_orig)"
   ]
  },
  {
   "cell_type": "markdown",
   "metadata": {
    "colab_type": "text",
    "id": "eXWJXLO5HJll"
   },
   "source": [
    "### Train the CNN on the shuffled data"
   ]
  },
  {
   "cell_type": "code",
   "execution_count": 30,
   "metadata": {
    "colab": {
     "base_uri": "https://localhost:8080/",
     "height": 35
    },
    "colab_type": "code",
    "id": "n43wXtMuHJln",
    "outputId": "4bf7ab99-1080-4ad4-9490-337be2cc807c"
   },
   "outputs": [
    {
     "data": {
      "text/plain": [
       "((30000, 28, 28, 1), (30000, 10), (10000, 28, 28, 1), (10000, 10))"
      ]
     },
     "execution_count": 30,
     "metadata": {},
     "output_type": "execute_result"
    }
   ],
   "source": [
    "# check the shape of the shuffled data\n",
    "# we need matrices as input\n",
    "X_train_shuffle.shape,Y_train.shape,X_val_shuffle.shape,Y_val.shape"
   ]
  },
  {
   "cell_type": "code",
   "execution_count": 31,
   "metadata": {
    "colab": {},
    "colab_type": "code",
    "id": "9uHoZFjHHJlt"
   },
   "outputs": [],
   "source": [
    "# define CNN with 2 convolution blocks and 2 fully connected layers  \n",
    "model = Sequential()\n",
    "\n",
    "model.add(Convolution2D(8,kernel_size,padding='same',input_shape=input_shape))\n",
    "model.add(Activation('relu'))\n",
    "model.add(Convolution2D(8, kernel_size,padding='same'))\n",
    "model.add(Activation('relu'))\n",
    "model.add(MaxPooling2D(pool_size=pool_size))\n",
    "\n",
    "model.add(Convolution2D(16, kernel_size,padding='same'))\n",
    "model.add(Activation('relu'))\n",
    "model.add(Convolution2D(16,kernel_size,padding='same'))\n",
    "model.add(Activation('relu'))\n",
    "model.add(MaxPooling2D(pool_size=pool_size))\n",
    "\n",
    "model.add(Flatten())\n",
    "model.add(Dense(40))\n",
    "model.add(Activation('relu'))\n",
    "model.add(Dense(nb_classes))\n",
    "model.add(Activation('softmax'))\n",
    "\n",
    "# compile model and intitialize weights\n",
    "model.compile(loss='categorical_crossentropy',\n",
    "              optimizer='adam',\n",
    "              metrics=['accuracy'])"
   ]
  },
  {
   "cell_type": "code",
   "execution_count": 32,
   "metadata": {
    "colab": {
     "base_uri": "https://localhost:8080/",
     "height": 390
    },
    "colab_type": "code",
    "id": "SEQBad6jHJly",
    "outputId": "578283b9-2e48-49b5-d9bf-fb94554365b8"
   },
   "outputs": [
    {
     "name": "stdout",
     "output_type": "stream",
     "text": [
      "Train on 30000 samples, validate on 10000 samples\n",
      "Epoch 1/10\n",
      "30000/30000 [==============================] - 34s 1ms/sample - loss: 0.9038 - accuracy: 0.7135 - val_loss: 0.4128 - val_accuracy: 0.8779\n",
      "Epoch 2/10\n",
      "30000/30000 [==============================] - 33s 1ms/sample - loss: 0.3830 - accuracy: 0.8866 - val_loss: 0.2984 - val_accuracy: 0.9098\n",
      "Epoch 3/10\n",
      "30000/30000 [==============================] - 33s 1ms/sample - loss: 0.2955 - accuracy: 0.9097 - val_loss: 0.2716 - val_accuracy: 0.9169\n",
      "Epoch 4/10\n",
      "30000/30000 [==============================] - 33s 1ms/sample - loss: 0.2422 - accuracy: 0.9262 - val_loss: 0.2290 - val_accuracy: 0.9290\n",
      "Epoch 5/10\n",
      "30000/30000 [==============================] - 33s 1ms/sample - loss: 0.2041 - accuracy: 0.9382 - val_loss: 0.2086 - val_accuracy: 0.9364\n",
      "Epoch 6/10\n",
      "30000/30000 [==============================] - 33s 1ms/sample - loss: 0.1770 - accuracy: 0.9460 - val_loss: 0.2119 - val_accuracy: 0.9358\n",
      "Epoch 7/10\n",
      "30000/30000 [==============================] - 33s 1ms/sample - loss: 0.1550 - accuracy: 0.9527 - val_loss: 0.2101 - val_accuracy: 0.9370\n",
      "Epoch 8/10\n",
      "30000/30000 [==============================] - 34s 1ms/sample - loss: 0.1379 - accuracy: 0.9560 - val_loss: 0.1942 - val_accuracy: 0.9428\n",
      "Epoch 9/10\n",
      "30000/30000 [==============================] - 34s 1ms/sample - loss: 0.1244 - accuracy: 0.9607 - val_loss: 0.1820 - val_accuracy: 0.9457\n",
      "Epoch 10/10\n",
      "30000/30000 [==============================] - 35s 1ms/sample - loss: 0.1091 - accuracy: 0.9649 - val_loss: 0.1875 - val_accuracy: 0.9453\n"
     ]
    }
   ],
   "source": [
    "# train the model\n",
    "history=model.fit(X_train_shuffle, Y_train, \n",
    "                  batch_size=128, \n",
    "                  epochs=10,\n",
    "                  verbose=1, \n",
    "                  validation_data=(X_val_shuffle, Y_val)\n",
    "                 )"
   ]
  },
  {
   "cell_type": "code",
   "execution_count": 33,
   "metadata": {
    "colab": {
     "base_uri": "https://localhost:8080/",
     "height": 428
    },
    "colab_type": "code",
    "id": "_O6iw7xJHJmA",
    "outputId": "eaf899d2-0121-4cae-d747-51f911c9cb28"
   },
   "outputs": [
    {
     "data": {
      "text/plain": [
       "<matplotlib.legend.Legend at 0x2487782e0f0>"
      ]
     },
     "execution_count": 33,
     "metadata": {},
     "output_type": "execute_result"
    },
    {
     "data": {
      "image/png": "[encoded data removed]",
      "text/plain": [
       "<Figure size 1200x400 with 2 Axes>"
      ]
     },
     "metadata": {},
     "output_type": "display_data"
    }
   ],
   "source": [
    "# plot the development of the accuracy and loss during training\n",
    "plt.figure(figsize=(12,4))\n",
    "plt.subplot(1,2,(1))\n",
    "plt.plot(history.history['accuracy'],linestyle='-.')\n",
    "plt.plot(history.history['val_accuracy'])\n",
    "plt.title('model accuracy')\n",
    "plt.ylabel('accuracy')\n",
    "plt.xlabel('epoch')\n",
    "plt.legend(['train', 'valid'], loc='lower right')\n",
    "plt.subplot(1,2,(2))\n",
    "plt.plot(history.history['loss'],linestyle='-.')\n",
    "plt.plot(history.history['val_loss'])\n",
    "plt.title('model loss')\n",
    "plt.ylabel('loss')\n",
    "plt.xlabel('epoch')\n",
    "plt.legend(['train', 'valid'], loc='upper right')"
   ]
  },
  {
   "cell_type": "markdown",
   "metadata": {
    "colab_type": "text",
    "id": "fz2TmqDyHJmF"
   },
   "source": [
    "#### Prediction on the test set after training on the shuffled data\n",
    "\n",
    "Use the CNN that was trained on the shuffled data to predict new unseen data (our testdata). We determine the confusion matrix and the accuracy on the testdata to evaluate the classification performance.\n"
   ]
  },
  {
   "cell_type": "code",
   "execution_count": 35,
   "metadata": {
    "colab": {
     "base_uri": "https://localhost:8080/",
     "height": 212
    },
    "colab_type": "code",
    "id": "XPT49d5THJmJ",
    "outputId": "e0809539-56f5-46a7-e84d-fc83e55fc3d2"
   },
   "outputs": [
    {
     "name": "stdout",
     "output_type": "stream",
     "text": [
      "[[ 961    0    6    0    0    2    6    1    3    1]\n",
      " [   0 1118    8    1    0    1    4    0    3    0]\n",
      " [   5    0  991    1    6    2    4   11    9    3]\n",
      " [   2    2   14  924    1   37    2    6   13    9]\n",
      " [   1    1    9    1  912    0    4    6    2   46]\n",
      " [   9    1    4   15    5  819    9    3   15   12]\n",
      " [   9    3    5    2    7    6  914    7    3    2]\n",
      " [   1    2   21    2    5    1    0  970    1   25]\n",
      " [   4    1   14    8   10    9    9    7  901   11]\n",
      " [   3    3    3    2   12    4    1    9    3  969]]\n",
      "Acc_cnn_shuffled =  0.9479\n"
     ]
    }
   ],
   "source": [
    "pred=model.predict(X_test_shuffle)\n",
    "print(confusion_matrix(np.argmax(Y_test,axis=1),np.argmax(pred,axis=1)))\n",
    "acc_fc_shuffled = np.sum(np.argmax(Y_test,axis=1)==np.argmax(pred,axis=1))/len(pred)\n",
    "print(\"Acc_cnn_shuffled = \" , acc_fc_shuffled)"
   ]
  },
  {
   "cell_type": "markdown",
   "metadata": {
    "colab_type": "text",
    "id": "Wv898fZgjb-Z"
   },
   "source": [
    "#### Play the deep learning game and ‘stack more layers and change the activation function from sigmoid to relu\n",
    "\n",
    "*Exercise [optional]: Try to improve the fcNN by adding more hidden layers and/or changing the activation function from \"sigmoid\" to \"relu\". What do you observe. can you beat the performace of the CNN?*\n",
    "\n"
   ]
  },
  {
   "cell_type": "code",
   "execution_count": null,
   "metadata": {
    "colab": {},
    "colab_type": "code",
    "id": "6qUgfXcshaZY"
   },
   "outputs": [],
   "source": []
  }
 ],
 "metadata": {
  "accelerator": "GPU",
  "colab": {
   "collapsed_sections": [],
   "name": "nb_ch02_02.ipynb",
   "provenance": []
  },
  "kernelspec": {
   "display_name": "Python 3",
   "language": "python",
   "name": "python3"
  },
  "language_info": {
   "codemirror_mode": {
    "name": "ipython",
    "version": 3
   },
   "file_extension": ".py",
   "mimetype": "text/x-python",
   "name": "python",
   "nbconvert_exporter": "python",
   "pygments_lexer": "ipython3",
   "version": "3.6.10"
  }
 },
 "nbformat": 4,
 "nbformat_minor": 1
}
