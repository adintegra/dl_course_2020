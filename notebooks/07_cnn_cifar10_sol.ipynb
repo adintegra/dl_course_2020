{
  "nbformat": 4,
  "nbformat_minor": 0,
  "metadata": {
    "accelerator": "GPU",
    "colab": {
      "name": "06_cnn_mnist_shuffled_sol.ipynb",
      "provenance": [],
      "collapsed_sections": []
    },
    "kernelspec": {
      "name": "python3",
      "display_name": "Python 3"
    },
    "language_info": {
      "codemirror_mode": {
        "name": "ipython",
        "version": 3
      },
      "file_extension": ".py",
      "mimetype": "text/x-python",
      "name": "python",
      "nbconvert_exporter": "python",
      "pygments_lexer": "ipython3",
      "version": "3.6.10"
    }
  },
  "cells": [
    {
      "cell_type": "markdown",
      "metadata": {
        "colab_type": "text",
        "id": "tbTYFRhJoaBu"
      },
      "source": [
        "# MNIST digit classification before and after shuffling\n",
        "\n",
        "\n",
        "In this notebook you will use a convolutional neural network (CNN), to train two neural networks on the original and the shuffled MNIST dataset and compare the performances.\n",
        "\n",
        "\n",
        "**Dataset:** You work with the MNIST dataset. We have 60'000 28x28 pixel greyscale images of digits and want to classify them into the right label (0-9).\n",
        "\n",
        "**Content:**\n",
        "* load the original MNIST data and create a randomly shuffled version of the data\n",
        "* visualize samples of the orginal and shuffled version of the data\n",
        "* use keras to train a CNN with the original and shuffled data and compare the perfomance on new unseen test data\n",
        "* check if the local structure of the pixels within the images have an impact on the classification performance when you use a CNN\n",
        "\n",
        "\n"
      ]
    },
    {
      "cell_type": "markdown",
      "metadata": {
        "colab_type": "text",
        "id": "PEIS4WvpsT5t"
      },
      "source": [
        "#### Imports\n",
        "\n",
        "In the next two cells, we load all the required libraries and functions. We download the Mnist data, normalize the pixelvalues to be between 0 and 1, and seperate it into a training and validation set."
      ]
    },
    {
      "cell_type": "code",
      "metadata": {
        "id": "Z9SFkwFIdg6f",
        "colab_type": "code",
        "colab": {}
      },
      "source": [
        "%tensorflow_version 2.x"
      ],
      "execution_count": 0,
      "outputs": []
    },
    {
      "cell_type": "code",
      "metadata": {
        "colab_type": "code",
        "id": "Y6S_hQX5oaBw",
        "scrolled": true,
        "colab": {}
      },
      "source": [
        "# load required libraries:\n",
        "import numpy as np\n",
        "import matplotlib.pyplot as plt\n",
        "%matplotlib inline\n",
        "plt.style.use('default')\n",
        "from sklearn.metrics import confusion_matrix\n",
        "\n",
        "from tensorflow.keras.models import Sequential\n",
        "from tensorflow.keras.layers import Dense, Convolution2D, MaxPooling2D, Flatten , Activation\n",
        "from tensorflow.keras.utils import to_categorical \n",
        "from tensorflow.keras import optimizers\n"
      ],
      "execution_count": 0,
      "outputs": []
    },
    {
      "cell_type": "code",
      "metadata": {
        "colab_type": "code",
        "id": "4sZ8lqFfoaB2",
        "outputId": "329e3a98-ac72-4129-e0ff-b850079b4961",
        "colab": {
          "base_uri": "https://localhost:8080/",
          "height": 68
        }
      },
      "source": [
        "from tensorflow.keras.datasets import cifar10\n",
        "(x_train, y_train), (x_test, y_test) = cifar10.load_data()\n",
        "\n",
        "# separate x_train in X_train and X_val, same for y_train\n",
        "X_train=x_train[0:40000]# / 255 #divide by 255 so that they are in range 0 to 1\n",
        "Y_train=to_categorical(y_train[0:40000],10) # one-hot encoding\n",
        "\n",
        "X_val=x_train[40000:50000]# / 255\n",
        "Y_val=to_categorical(y_train[40000:50000],10)\n",
        "\n",
        "X_test=x_test# / 255\n",
        "Y_test=to_categorical(y_test,10)\n",
        "\n",
        "del x_train, y_train, x_test, y_test\n",
        "\n",
        "\n",
        "print(X_train.shape)\n",
        "print(X_val.shape)\n",
        "print(X_test.shape)"
      ],
      "execution_count": 28,
      "outputs": [
        {
          "output_type": "stream",
          "text": [
            "(40000, 32, 32, 3)\n",
            "(10000, 32, 32, 3)\n",
            "(10000, 32, 32, 3)\n"
          ],
          "name": "stdout"
        }
      ]
    },
    {
      "cell_type": "markdown",
      "metadata": {
        "colab_type": "text",
        "id": "3ly7CrHtLUP9"
      },
      "source": [
        "Let's visualize the first 4 mnist images before shuffling the pixels randomly around. It is very easy to recognise the true label of the digits."
      ]
    },
    {
      "cell_type": "code",
      "metadata": {
        "colab_type": "code",
        "id": "c4gUgwGUeftF",
        "outputId": "affa3158-fd37-4e3a-e0f6-dffcb8ce056e",
        "colab": {
          "base_uri": "https://localhost:8080/",
          "height": 285
        }
      },
      "source": [
        "# visualize the 4 first mnist images before shuffling the pixels\n",
        "plt.figure(figsize=(12,12))\n",
        "for i in range(0,4):\n",
        "    plt.subplot(1,4,(i+1))\n",
        "    plt.imshow((X_train[i,:,:,0]),cmap=\"gray\")\n",
        "    plt.title('true label: '+np.str(np.argmax(Y_train,axis=1)[i]))\n",
        "    #plt.axis('off')"
      ],
      "execution_count": 29,
      "outputs": [
        {
          "output_type": "display_data",
          "data": {
            "image/png": "[encoded data removed]",
            "text/plain": [
              "<Figure size 1200x1200 with 4 Axes>"
            ]
          },
          "metadata": {
            "tags": []
          }
        }
      ]
    },
    {
      "cell_type": "markdown",
      "metadata": {
        "colab_type": "text",
        "id": "m6laMbqWLqlz"
      },
      "source": [
        "In the next cell we shuffle the pixel of each image randomly around. Note that we shuffle every image in same manner!"
      ]
    },
    {
      "cell_type": "markdown",
      "metadata": {
        "colab_type": "text",
        "id": "ZaRFUEP8HJkq"
      },
      "source": [
        "# CNN as classification model for MNIST data\n",
        "\n",
        "Now, we train a CNN to classify the MNIST data. We use the same netwok architecture and train first with the original data and then with the shuffled data. \n",
        "* Use a CNN with 2 convolution blocks and 2 fully connected layers as classification model\n",
        "* train it once on the original train data and check the performance on the original test data\n",
        "* train it once on the shuffeled train data and check the performance on the accordingly shuffled test data"
      ]
    },
    {
      "cell_type": "markdown",
      "metadata": {
        "colab_type": "text",
        "id": "cFJtO1FFHJkz"
      },
      "source": [
        "### Train the CNN on the original data"
      ]
    },
    {
      "cell_type": "code",
      "metadata": {
        "colab_type": "code",
        "id": "iq45_Gs1HJk1",
        "outputId": "34c841a6-b4d8-4e4c-b00c-50214385d960",
        "colab": {
          "base_uri": "https://localhost:8080/",
          "height": 34
        }
      },
      "source": [
        "# check the shape of the orginal data\n",
        "# we need matrices as input\n",
        "X_train.shape,Y_train.shape,X_val.shape,Y_val.shape"
      ],
      "execution_count": 30,
      "outputs": [
        {
          "output_type": "execute_result",
          "data": {
            "text/plain": [
              "((40000, 32, 32, 3), (40000, 10), (10000, 32, 32, 3), (10000, 10))"
            ]
          },
          "metadata": {
            "tags": []
          },
          "execution_count": 30
        }
      ]
    },
    {
      "cell_type": "markdown",
      "metadata": {
        "colab_type": "text",
        "id": "fFBbAdLeTZuv"
      },
      "source": [
        "In the next cell we define the hyperparameters and architecture of the CNN. We use:\n",
        ">the relu activation function  \n",
        ">batchsize of 128  \n",
        ">kernelsize of 3x3  \n",
        ">poolingsize of 2x2   \n",
        ">our inputs are the greyscaled MNIST images, so the shape is 28x28x1  \n",
        "> we use 2 convolutional blocks with 8 filters and then a maxpooling layer followed by again 2 convolutional blocks with 16 filters and then a maxpooling  \n",
        "> then we flatten the output and use a fully connected layer with 40 nodes and the output has 10 nodes with the softmax activation."
      ]
    },
    {
      "cell_type": "code",
      "metadata": {
        "colab_type": "code",
        "id": "JSfYQ4f1KYVp",
        "colab": {}
      },
      "source": [
        "# here we define hyperparameter of the CNN\n",
        "batch_size = 128\n",
        "nb_classes = 10\n",
        "img_rows, img_cols = 32, 32\n",
        "kernel_size = (3, 3)\n",
        "input_shape = (img_rows, img_cols, 3)\n",
        "pool_size = (2, 2)"
      ],
      "execution_count": 0,
      "outputs": []
    },
    {
      "cell_type": "code",
      "metadata": {
        "colab_type": "code",
        "id": "3xwh0iYrHJk_",
        "colab": {}
      },
      "source": [
        "# define CNN with 2 convolution blocks and 2 fully connected layers\n",
        "model = Sequential()\n",
        "\n",
        "model.add(Convolution2D(8,kernel_size,padding='same',input_shape=input_shape))\n",
        "model.add(Activation('relu'))\n",
        "model.add(Convolution2D(8, kernel_size,padding='same'))\n",
        "model.add(Activation('relu'))\n",
        "model.add(MaxPooling2D(pool_size=pool_size))\n",
        "\n",
        "model.add(Convolution2D(16, kernel_size,padding='same'))\n",
        "model.add(Activation('relu'))\n",
        "model.add(Convolution2D(16,kernel_size,padding='same'))\n",
        "model.add(Activation('relu'))\n",
        "model.add(MaxPooling2D(pool_size=pool_size))\n",
        "\n",
        "\n",
        "model.add(Flatten())\n",
        "model.add(Dense(40))\n",
        "model.add(Activation('relu'))\n",
        "model.add(Dense(nb_classes))\n",
        "model.add(Activation('softmax'))\n",
        "\n",
        "# compile model and intitialize weights\n",
        "model.compile(loss='categorical_crossentropy',\n",
        "              optimizer='adam',\n",
        "              metrics=['accuracy'])"
      ],
      "execution_count": 0,
      "outputs": []
    },
    {
      "cell_type": "code",
      "metadata": {
        "colab_type": "code",
        "id": "blxHZguwHJlG",
        "outputId": "def1c007-74b6-441a-d457-e5f09fdda966",
        "colab": {
          "base_uri": "https://localhost:8080/",
          "height": 663
        }
      },
      "source": [
        "# summarize model along with number of model weights\n",
        "model.summary()"
      ],
      "execution_count": 33,
      "outputs": [
        {
          "output_type": "stream",
          "text": [
            "Model: \"sequential_2\"\n",
            "_________________________________________________________________\n",
            "Layer (type)                 Output Shape              Param #   \n",
            "=================================================================\n",
            "conv2d_8 (Conv2D)            (None, 32, 32, 8)         224       \n",
            "_________________________________________________________________\n",
            "activation_12 (Activation)   (None, 32, 32, 8)         0         \n",
            "_________________________________________________________________\n",
            "conv2d_9 (Conv2D)            (None, 32, 32, 8)         584       \n",
            "_________________________________________________________________\n",
            "activation_13 (Activation)   (None, 32, 32, 8)         0         \n",
            "_________________________________________________________________\n",
            "max_pooling2d_4 (MaxPooling2 (None, 16, 16, 8)         0         \n",
            "_________________________________________________________________\n",
            "conv2d_10 (Conv2D)           (None, 16, 16, 16)        1168      \n",
            "_________________________________________________________________\n",
            "activation_14 (Activation)   (None, 16, 16, 16)        0         \n",
            "_________________________________________________________________\n",
            "conv2d_11 (Conv2D)           (None, 16, 16, 16)        2320      \n",
            "_________________________________________________________________\n",
            "activation_15 (Activation)   (None, 16, 16, 16)        0         \n",
            "_________________________________________________________________\n",
            "max_pooling2d_5 (MaxPooling2 (None, 8, 8, 16)          0         \n",
            "_________________________________________________________________\n",
            "flatten_2 (Flatten)          (None, 1024)              0         \n",
            "_________________________________________________________________\n",
            "dense_4 (Dense)              (None, 40)                41000     \n",
            "_________________________________________________________________\n",
            "activation_16 (Activation)   (None, 40)                0         \n",
            "_________________________________________________________________\n",
            "dense_5 (Dense)              (None, 10)                410       \n",
            "_________________________________________________________________\n",
            "activation_17 (Activation)   (None, 10)                0         \n",
            "=================================================================\n",
            "Total params: 45,706\n",
            "Trainable params: 45,706\n",
            "Non-trainable params: 0\n",
            "_________________________________________________________________\n"
          ],
          "name": "stdout"
        }
      ]
    },
    {
      "cell_type": "code",
      "metadata": {
        "colab_type": "code",
        "id": "430DSTDIHJlP",
        "outputId": "6a5f52ff-bd78-4ece-97be-24fb080ba236",
        "colab": {
          "base_uri": "https://localhost:8080/",
          "height": 884
        }
      },
      "source": [
        "# train the model\n",
        "history=model.fit(X_train, Y_train, \n",
        "                  batch_size=128, \n",
        "                  epochs=25,\n",
        "                  verbose=1, \n",
        "                  validation_data=(X_val, Y_val)\n",
        "                 )"
      ],
      "execution_count": 34,
      "outputs": [
        {
          "output_type": "stream",
          "text": [
            "Train on 40000 samples, validate on 10000 samples\n",
            "Epoch 1/25\n",
            "40000/40000 [==============================] - 3s 69us/sample - loss: 2.0413 - accuracy: 0.3057 - val_loss: 1.5874 - val_accuracy: 0.4284\n",
            "Epoch 2/25\n",
            "40000/40000 [==============================] - 2s 56us/sample - loss: 1.4619 - accuracy: 0.4731 - val_loss: 1.4255 - val_accuracy: 0.4881\n",
            "Epoch 3/25\n",
            "40000/40000 [==============================] - 2s 55us/sample - loss: 1.3260 - accuracy: 0.5249 - val_loss: 1.3686 - val_accuracy: 0.5149\n",
            "Epoch 4/25\n",
            "40000/40000 [==============================] - 2s 52us/sample - loss: 1.2416 - accuracy: 0.5587 - val_loss: 1.2968 - val_accuracy: 0.5382\n",
            "Epoch 5/25\n",
            "40000/40000 [==============================] - 2s 55us/sample - loss: 1.1697 - accuracy: 0.5839 - val_loss: 1.2461 - val_accuracy: 0.5618\n",
            "Epoch 6/25\n",
            "40000/40000 [==============================] - 2s 55us/sample - loss: 1.1117 - accuracy: 0.6075 - val_loss: 1.2283 - val_accuracy: 0.5677\n",
            "Epoch 7/25\n",
            "40000/40000 [==============================] - 2s 56us/sample - loss: 1.0608 - accuracy: 0.6238 - val_loss: 1.2594 - val_accuracy: 0.5686\n",
            "Epoch 8/25\n",
            "40000/40000 [==============================] - 2s 54us/sample - loss: 1.0174 - accuracy: 0.6404 - val_loss: 1.2334 - val_accuracy: 0.5742\n",
            "Epoch 9/25\n",
            "40000/40000 [==============================] - 2s 53us/sample - loss: 0.9746 - accuracy: 0.6574 - val_loss: 1.1929 - val_accuracy: 0.5924\n",
            "Epoch 10/25\n",
            "40000/40000 [==============================] - 2s 53us/sample - loss: 0.9379 - accuracy: 0.6708 - val_loss: 1.1904 - val_accuracy: 0.5909\n",
            "Epoch 11/25\n",
            "40000/40000 [==============================] - 2s 55us/sample - loss: 0.9021 - accuracy: 0.6823 - val_loss: 1.2047 - val_accuracy: 0.5992\n",
            "Epoch 12/25\n",
            "40000/40000 [==============================] - 2s 55us/sample - loss: 0.8708 - accuracy: 0.6919 - val_loss: 1.2004 - val_accuracy: 0.5984\n",
            "Epoch 13/25\n",
            "40000/40000 [==============================] - 2s 54us/sample - loss: 0.8391 - accuracy: 0.7020 - val_loss: 1.2449 - val_accuracy: 0.5794\n",
            "Epoch 14/25\n",
            "40000/40000 [==============================] - 2s 54us/sample - loss: 0.8171 - accuracy: 0.7127 - val_loss: 1.2472 - val_accuracy: 0.5842\n",
            "Epoch 15/25\n",
            "40000/40000 [==============================] - 2s 54us/sample - loss: 0.7858 - accuracy: 0.7234 - val_loss: 1.2727 - val_accuracy: 0.5964\n",
            "Epoch 16/25\n",
            "40000/40000 [==============================] - 2s 52us/sample - loss: 0.7573 - accuracy: 0.7343 - val_loss: 1.2660 - val_accuracy: 0.5970\n",
            "Epoch 17/25\n",
            "40000/40000 [==============================] - 2s 56us/sample - loss: 0.7362 - accuracy: 0.7411 - val_loss: 1.3402 - val_accuracy: 0.5855\n",
            "Epoch 18/25\n",
            "40000/40000 [==============================] - 2s 56us/sample - loss: 0.7182 - accuracy: 0.7455 - val_loss: 1.3268 - val_accuracy: 0.5917\n",
            "Epoch 19/25\n",
            "40000/40000 [==============================] - 2s 55us/sample - loss: 0.6882 - accuracy: 0.7569 - val_loss: 1.3328 - val_accuracy: 0.6001\n",
            "Epoch 20/25\n",
            "40000/40000 [==============================] - 2s 54us/sample - loss: 0.6745 - accuracy: 0.7608 - val_loss: 1.3580 - val_accuracy: 0.5883\n",
            "Epoch 21/25\n",
            "40000/40000 [==============================] - 2s 55us/sample - loss: 0.6634 - accuracy: 0.7649 - val_loss: 1.4595 - val_accuracy: 0.5801\n",
            "Epoch 22/25\n",
            "40000/40000 [==============================] - 2s 56us/sample - loss: 0.6430 - accuracy: 0.7736 - val_loss: 1.4072 - val_accuracy: 0.5913\n",
            "Epoch 23/25\n",
            "40000/40000 [==============================] - 2s 55us/sample - loss: 0.6154 - accuracy: 0.7818 - val_loss: 1.5415 - val_accuracy: 0.5738\n",
            "Epoch 24/25\n",
            "40000/40000 [==============================] - 2s 53us/sample - loss: 0.6031 - accuracy: 0.7869 - val_loss: 1.4674 - val_accuracy: 0.5836\n",
            "Epoch 25/25\n",
            "40000/40000 [==============================] - 2s 54us/sample - loss: 0.5838 - accuracy: 0.7948 - val_loss: 1.4994 - val_accuracy: 0.5841\n"
          ],
          "name": "stdout"
        }
      ]
    },
    {
      "cell_type": "code",
      "metadata": {
        "colab_type": "code",
        "id": "q8GcmSWoHJlX",
        "outputId": "3d114149-ea5b-4bb2-fd61-3b78147b38ec",
        "colab": {
          "base_uri": "https://localhost:8080/",
          "height": 427
        }
      },
      "source": [
        "# plot the development of the accuracy and loss during training\n",
        "plt.figure(figsize=(12,4))\n",
        "plt.subplot(1,2,(1))\n",
        "plt.plot(history.history['accuracy'],linestyle='-.')\n",
        "plt.plot(history.history['val_accuracy'])\n",
        "plt.title('model accuracy')\n",
        "plt.ylabel('accuracy')\n",
        "plt.xlabel('epoch')\n",
        "plt.legend(['train', 'valid'], loc='lower right')\n",
        "plt.subplot(1,2,(2))\n",
        "plt.plot(history.history['loss'],linestyle='-.')\n",
        "plt.plot(history.history['val_loss'])\n",
        "plt.title('model loss')\n",
        "plt.ylabel('loss')\n",
        "plt.xlabel('epoch')\n",
        "plt.legend(['train', 'valid'], loc='upper right')"
      ],
      "execution_count": 35,
      "outputs": [
        {
          "output_type": "execute_result",
          "data": {
            "text/plain": [
              "<matplotlib.legend.Legend at 0x7fe4bf1aaa20>"
            ]
          },
          "metadata": {
            "tags": []
          },
          "execution_count": 35
        },
        {
          "output_type": "display_data",
          "data": {
            "image/png": "[encoded data removed]",
            "text/plain": [
              "<Figure size 1200x400 with 2 Axes>"
            ]
          },
          "metadata": {
            "tags": []
          }
        }
      ]
    },
    {
      "cell_type": "markdown",
      "metadata": {
        "colab_type": "text",
        "id": "CAcwJRvDHJlf"
      },
      "source": [
        "#### Prediction on the test set after training on original data\n",
        "\n",
        "Now, let's use CNN that was trained on the original data to predict new unseen data (our testdata). We determine the confusion matrix and the accuracy on the testdata to evaluate the classification performance."
      ]
    },
    {
      "cell_type": "code",
      "metadata": {
        "colab_type": "code",
        "id": "AdB-5bEjHJlh",
        "outputId": "71e47a18-7caf-4a64-e75f-1b5735c374be",
        "colab": {
          "base_uri": "https://localhost:8080/",
          "height": 204
        }
      },
      "source": [
        "pred=model.predict(X_test)\n",
        "print(confusion_matrix(np.argmax(Y_test,axis=1),np.argmax(pred,axis=1)))\n",
        "acc = np.sum(np.argmax(Y_test,axis=1)==np.argmax(pred,axis=1))/len(pred)\n",
        "print(\"Acc_cnn= \" , acc)"
      ],
      "execution_count": 36,
      "outputs": [
        {
          "output_type": "stream",
          "text": [
            "[[714  21  63  28  29  13   6  12  84  30]\n",
            " [ 49 699  11  23   6  11  17   4  41 139]\n",
            " [ 97   9 470  97 110  97  60  41  16   3]\n",
            " [ 46  14 103 425  83 157  87  42  19  24]\n",
            " [ 56  14 135 115 454  58  72  77  15   4]\n",
            " [ 21  13  73 234  49 471  35  81  13  10]\n",
            " [ 19  10  66 114  55  42 661  10  10  13]\n",
            " [ 39  11  38  70  91 102  13 608   3  25]\n",
            " [131  54  28  19  10  13  12  11 688  34]\n",
            " [ 90 139  12  29  10  16  10  25  46 623]]\n",
            "Acc_cnn=  0.5813\n"
          ],
          "name": "stdout"
        }
      ]
    },
    {
      "cell_type": "markdown",
      "metadata": {
        "colab_type": "text",
        "id": "Wv898fZgjb-Z"
      },
      "source": [
        "#### Exercise\n",
        "\n",
        "Compre the performances of the fcNN on the MNIST dataset to the CNN performances.  \n",
        "What do you observe?  \n",
        "Compre the performance of the CNN on the original and on the shuffled dataset.  \n",
        "Try to explain the differences.  \n",
        "\n"
      ]
    },
    {
      "cell_type": "code",
      "metadata": {
        "colab_type": "code",
        "id": "6qUgfXcshaZY",
        "colab": {}
      },
      "source": [
        ""
      ],
      "execution_count": 0,
      "outputs": []
    }
  ]
}